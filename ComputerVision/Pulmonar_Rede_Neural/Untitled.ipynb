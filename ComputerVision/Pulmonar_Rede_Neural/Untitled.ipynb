{
 "cells": [
  {
   "cell_type": "code",
   "execution_count": null,
   "id": "conscious-variation",
   "metadata": {},
   "outputs": [],
   "source": [
    "# import the necessary packages\n",
    "import os"
   ]
  },
  {
   "cell_type": "code",
   "execution_count": null,
   "id": "southwest-oriental",
   "metadata": {},
   "outputs": [],
   "source": [
    "\n",
    "# define the base path to the input dataset and then use it to derive\n",
    "# the path to the input images and annotation CSV files\n",
    "BASE_PATH = \"D:/kaggle2/\n",
    "IMAGES_PATH = os.path.sep.join([BASE_PATH, \"Pulmonary_BOX/Box_pulmonary0.pckl\"\"])\n",
    "ANNOTS_PATH = os.path.sep.join([BASE_PATH, \"annotations\"])"
   ]
  },
  {
   "cell_type": "code",
   "execution_count": null,
   "id": "illegal-jenny",
   "metadata": {},
   "outputs": [],
   "source": [
    "# define the path to the base output directory\n",
    "BASE_OUTPUT = \"D:/kaggle2/out/\"\n",
    "# define the path to the output model, label binarizer, plots output\n",
    "# directory, and testing image paths\n",
    "MODEL_PATH = os.path.sep.join([BASE_OUTPUT, \"detector.h5\"])\n",
    "LB_PATH = os.path.sep.join([BASE_OUTPUT, \"lb.pickle\"])\n",
    "PLOTS_PATH = os.path.sep.join([BASE_OUTPUT, \"plots\"])\n",
    "TEST_PATHS = os.path.sep.join([BASE_OUTPUT, \"test_paths.txt\"])"
   ]
  },
  {
   "cell_type": "code",
   "execution_count": null,
   "id": "antique-uniform",
   "metadata": {},
   "outputs": [],
   "source": [
    "# initialize our initial learning rate, number of epochs to train\n",
    "# for, and the batch size\n",
    "INIT_LR = 1e-4\n",
    "NUM_EPOCHS = 20\n",
    "BATCH_SIZE = 32"
   ]
  },
  {
   "cell_type": "code",
   "execution_count": null,
   "id": "advisory-teddy",
   "metadata": {},
   "outputs": [],
   "source": [
    "# import the necessary packages\n",
    "from pyimagesearch import config\n",
    "from tensorflow.keras.applications import VGG16\n",
    "from tensorflow.keras.layers import Flatten\n",
    "from tensorflow.keras.layers import Dropout\n",
    "from tensorflow.keras.layers import Dense\n",
    "from tensorflow.keras.layers import Input\n",
    "from tensorflow.keras.models import Model\n",
    "from tensorflow.keras.optimizers import Adam\n",
    "from tensorflow.keras.preprocessing.image import img_to_array\n",
    "from tensorflow.keras.preprocessing.image import load_img\n",
    "from tensorflow.keras.utils import to_categorical\n",
    "from sklearn.preprocessing import LabelBinarizer\n",
    "from sklearn.model_selection import train_test_split\n",
    "from imutils import paths\n",
    "import matplotlib.pyplot as plt\n",
    "import numpy as np\n",
    "import pickle\n",
    "import cv2\n",
    "import os"
   ]
  },
  {
   "cell_type": "code",
   "execution_count": null,
   "id": "italic-auckland",
   "metadata": {},
   "outputs": [],
   "source": [
    "# initialize the list of data (images), class labels, target bounding\n",
    "# box coordinates, and image paths\n",
    "print(\"[INFO] loading dataset...\")\n",
    "data = []\n",
    "labels = []\n",
    "bboxes = []\n",
    "imagePaths = []"
   ]
  },
  {
   "cell_type": "code",
   "execution_count": null,
   "id": "union-coalition",
   "metadata": {},
   "outputs": [],
   "source": [
    "# loop over all CSV files in the annotations directory\n",
    "for csvPath in paths.list_files(config.ANNOTS_PATH, validExts=(\".csv\")):\n",
    "    # load the contents of the current CSV annotations file\n",
    "    rows = open(csvPath).read().strip().split(\"\\n\")\n",
    "    # loop over the rows\n",
    "    for row in rows:\n",
    "        # break the row into the filename, bounding box coordinates,\n",
    "        # and class label\n",
    "        row = row.split(\",\")\n",
    "        (filename, startX, startY, endX, endY, label) = row"
   ]
  },
  {
   "cell_type": "code",
   "execution_count": null,
   "id": "secure-special",
   "metadata": {},
   "outputs": [],
   "source": [
    "# derive the path to the input image, load the image (in\n",
    "# OpenCV format), and grab its dimensions\n",
    "imagePath = os.path.sep.join([config.IMAGES_PATH, label,\n",
    "    filename])\n",
    "image = cv2.imread(imagePath)\n",
    "(h, w) = image.shape[:2]\n",
    "# scale the bounding box coordinates relative to the spatial\n",
    "# dimensions of the input image\n",
    "startX = float(startX) / w\n",
    "startY = float(startY) / h\n",
    "endX = float(endX) / w\n",
    "endY = float(endY) / h"
   ]
  },
  {
   "cell_type": "code",
   "execution_count": null,
   "id": "artistic-trash",
   "metadata": {},
   "outputs": [],
   "source": [
    "# load the image and preprocess it\n",
    "image = load_img(imagePath, target_size=(224, 224))\n",
    "image = img_to_array(image)\n",
    "# update our list of data, class labels, bounding boxes, and\n",
    "# image paths\n",
    "data.append(image)\n",
    "labels.append(label)\n",
    "bboxes.append((startX, startY, endX, endY))\n",
    "imagePaths.append(imagePath)"
   ]
  },
  {
   "cell_type": "code",
   "execution_count": null,
   "id": "recent-forward",
   "metadata": {},
   "outputs": [],
   "source": [
    "# convert the data, class labels, bounding boxes, and image paths to\n",
    "# NumPy arrays, scaling the input pixel intensities from the range\n",
    "# [0, 255] to [0, 1]\n",
    "data = np.array(data, dtype=\"float32\") / 255.0\n",
    "labels = np.array(labels)\n",
    "bboxes = np.array(bboxes, dtype=\"float32\")\n",
    "imagePaths = np.array(imagePaths)\n",
    "# perform one-hot encoding on the labels\n",
    "lb = LabelBinarizer()\n",
    "labels = lb.fit_transform(labels)\n",
    "# only there are only two labels in the dataset, then we need to use\n",
    "# Keras/TensorFlow's utility function as well\n",
    "if len(lb.classes_) == 2:\n",
    "    labels = to_categorical(labels)"
   ]
  },
  {
   "cell_type": "code",
   "execution_count": null,
   "id": "resistant-coaching",
   "metadata": {},
   "outputs": [],
   "source": [
    "# partition the data into training and testing splits using 80% of\n",
    "# the data for training and the remaining 20% for testing\n",
    "split = train_test_split(data, labels, bboxes, imagePaths,\n",
    "    test_size=0.20, random_state=42)\n",
    "# unpack the data split\n",
    "(trainImages, testImages) = split[:2]\n",
    "(trainLabels, testLabels) = split[2:4]\n",
    "(trainBBoxes, testBBoxes) = split[4:6]\n",
    "(trainPaths, testPaths) = split[6:]\n",
    "# write the testing image paths to disk so that we can use then\n",
    "# when evaluating/testing our object detector\n",
    "print(\"[INFO] saving testing image paths...\")\n",
    "f = open(config.TEST_PATHS, \"w\")\n",
    "f.write(\"\\n\".join(testPaths))\n",
    "f.close()"
   ]
  },
  {
   "cell_type": "code",
   "execution_count": null,
   "id": "brave-regard",
   "metadata": {},
   "outputs": [],
   "source": [
    "# load the VGG16 network, ensuring the head FC layers are left off\n",
    "vgg = VGG16(weights=\"imagenet\", include_top=False,\n",
    "    input_tensor=Input(shape=(250, 250, 3)))\n",
    "# freeze all VGG layers so they will *not* be updated during the\n",
    "# training process\n",
    "vgg.trainable = False\n",
    "# flatten the max-pooling output of VGG\n",
    "flatten = vgg.output\n",
    "flatten = Flatten()(flatten)"
   ]
  },
  {
   "cell_type": "code",
   "execution_count": null,
   "id": "unknown-endorsement",
   "metadata": {},
   "outputs": [],
   "source": [
    "# construct a fully-connected layer header to output the predicted\n",
    "# bounding box coordinates\n",
    "bboxHead = Dense(128, activation=\"relu\")(flatten)\n",
    "bboxHead = Dense(64, activation=\"relu\")(bboxHead)\n",
    "bboxHead = Dense(32, activation=\"relu\")(bboxHead)\n",
    "bboxHead = Dense(4, activation=\"sigmoid\",\n",
    "    name=\"bounding_box\")(bboxHead)\n",
    "# construct a second fully-connected layer head, this one to predict\n",
    "# the class label\n",
    "softmaxHead = Dense(512, activation=\"relu\")(flatten)\n",
    "softmaxHead = Dropout(0.5)(softmaxHead)\n",
    "softmaxHead = Dense(512, activation=\"relu\")(softmaxHead)\n",
    "softmaxHead = Dropout(0.5)(softmaxHead)\n",
    "softmaxHead = Dense(len(lb.classes_), activation=\"softmax\",\n",
    "    name=\"class_label\")(softmaxHead)\n",
    "# put together our model which accept an input image and then output\n",
    "# bounding box coordinates and a class label\n",
    "model = Model(\n",
    "    inputs=vgg.input,\n",
    "    outputs=(bboxHead, softmaxHead))"
   ]
  },
  {
   "cell_type": "code",
   "execution_count": null,
   "id": "sunrise-reply",
   "metadata": {},
   "outputs": [],
   "source": [
    "# define a dictionary to set the loss methods -- categorical\n",
    "# cross-entropy for the class label head and mean absolute error\n",
    "# for the bounding box head\n",
    "losses = {\n",
    "    \"class_label\": \"categorical_crossentropy\",\n",
    "    \"bounding_box\": \"mean_squared_error\",\n",
    "}\n",
    "# define a dictionary that specifies the weights per loss (both the\n",
    "# class label and bounding box outputs will receive equal weight)\n",
    "lossWeights = {\n",
    "    \"class_label\": 1.0,\n",
    "    \"bounding_box\": 1.0\n",
    "}\n",
    "# initialize the optimizer, compile the model, and show the model\n",
    "# summary\n",
    "opt = Adam(lr=config.INIT_LR)\n",
    "model.compile(loss=losses, optimizer=opt, metrics=[\"accuracy\"], loss_weights=lossWeights)\n",
    "print(model.summary())"
   ]
  },
  {
   "cell_type": "code",
   "execution_count": null,
   "id": "interior-snake",
   "metadata": {},
   "outputs": [],
   "source": [
    "# construct a dictionary for our target training outputs\n",
    "trainTargets = {\n",
    "    \"class_label\": trainLabels,\n",
    "    \"bounding_box\": trainBBoxes\n",
    "}\n",
    "# construct a second dictionary, this one for our target testing\n",
    "# outputs\n",
    "testTargets = {\n",
    "    \"class_label\": testLabels,\n",
    "    \"bounding_box\": testBBoxes\n",
    "}"
   ]
  },
  {
   "cell_type": "code",
   "execution_count": null,
   "id": "dirty-refrigerator",
   "metadata": {},
   "outputs": [],
   "source": [
    "# train the network for bounding box regression and class label\n",
    "# prediction\n",
    "print(\"[INFO] training model...\")\n",
    "H = model.fit(\n",
    "    trainImages, trainTargets,\n",
    "    validation_data=(testImages, testTargets),\n",
    "    batch_size=config.BATCH_SIZE,\n",
    "    epochs=config.NUM_EPOCHS,\n",
    "    verbose=1)\n",
    "# serialize the model to disk\n",
    "print(\"[INFO] saving object detector model...\")\n",
    "model.save(config.MODEL_PATH, save_format=\"h5\")\n",
    "# serialize the label binarizer to disk\n",
    "print(\"[INFO] saving label binarizer...\")\n",
    "f = open(config.LB_PATH, \"wb\")\n",
    "f.write(pickle.dumps(lb))\n",
    "f.close()"
   ]
  },
  {
   "cell_type": "code",
   "execution_count": null,
   "id": "valued-mechanism",
   "metadata": {},
   "outputs": [],
   "source": [
    "# plot the total loss, label loss, and bounding box loss\n",
    "lossNames = [\"loss\", \"class_label_loss\", \"bounding_box_loss\"]\n",
    "N = np.arange(0, config.NUM_EPOCHS)\n",
    "plt.style.use(\"ggplot\")\n",
    "(fig, ax) = plt.subplots(3, 1, figsize=(13, 13))\n",
    "# loop over the loss names\n",
    "for (i, l) in enumerate(lossNames):\n",
    "    # plot the loss for both the training and validation data\n",
    "    title = \"Loss for {}\".format(l) if l != \"loss\" else \"Total loss\"\n",
    "    ax[i].set_title(title)\n",
    "    ax[i].set_xlabel(\"Epoch #\")\n",
    "    ax[i].set_ylabel(\"Loss\")\n",
    "    ax[i].plot(N, H.history[l], label=l)\n",
    "    ax[i].plot(N, H.history[\"val_\" + l], label=\"val_\" + l)\n",
    "    ax[i].legend()\n",
    "# save the losses figure and create a new figure for the accuracies\n",
    "plt.tight_layout()\n",
    "plotPath = os.path.sep.join([config.PLOTS_PATH, \"losses.png\"])\n",
    "plt.savefig(plotPath)\n",
    "plt.close()"
   ]
  },
  {
   "cell_type": "code",
   "execution_count": null,
   "id": "allied-moisture",
   "metadata": {},
   "outputs": [],
   "source": [
    "# create a new figure for the accuracies\n",
    "plt.style.use(\"ggplot\")\n",
    "plt.figure()\n",
    "plt.plot(N, H.history[\"class_label_accuracy\"],\n",
    "    label=\"class_label_train_acc\")\n",
    "plt.plot(N, H.history[\"val_class_label_accuracy\"],\n",
    "    label=\"val_class_label_acc\")\n",
    "plt.title(\"Class Label Accuracy\")\n",
    "plt.xlabel(\"Epoch #\")\n",
    "plt.ylabel(\"Accuracy\")\n",
    "plt.legend(loc=\"lower left\")\n",
    "# save the accuracies plot\n",
    "plotPath = os.path.sep.join([config.PLOTS_PATH, \"accs.png\"])\n",
    "plt.savefig(plotPath)"
   ]
  },
  {
   "cell_type": "markdown",
   "id": "congressional-signature",
   "metadata": {},
   "source": [
    "# PREDICIT"
   ]
  },
  {
   "cell_type": "code",
   "execution_count": null,
   "id": "acceptable-mortgage",
   "metadata": {},
   "outputs": [],
   "source": [
    "# import the necessary packages\n",
    "from pyimagesearch import config\n",
    "from tensorflow.keras.preprocessing.image import img_to_array\n",
    "from tensorflow.keras.preprocessing.image import load_img\n",
    "from tensorflow.keras.models import load_model\n",
    "import numpy as np\n",
    "import mimetypes\n",
    "import argparse\n",
    "import imutils\n",
    "import pickle\n",
    "import cv2\n",
    "import os"
   ]
  },
  {
   "cell_type": "code",
   "execution_count": null,
   "id": "actual-intelligence",
   "metadata": {},
   "outputs": [],
   "source": [
    "# construct the argument parser and parse the arguments\n",
    "ap = argparse.ArgumentParser()\n",
    "ap.add_argument(\"-i\", \"--input\", required=True,\n",
    "    help=\"path to input image/text file of image paths\")\n",
    "args = vars(ap.parse_args())"
   ]
  },
  {
   "cell_type": "code",
   "execution_count": null,
   "id": "matched-superior",
   "metadata": {},
   "outputs": [],
   "source": [
    "# determine the input file type, but assume that we're working with\n",
    "# single input image\n",
    "filetype = mimetypes.guess_type(args[\"input\"])[0]\n",
    "imagePaths = [args[\"input\"]]\n",
    "# if the file type is a text file, then we need to process *multiple*\n",
    "# images\n",
    "if \"text/plain\" == filetype:\n",
    "    # load the image paths in our testing file\n",
    "    imagePaths = open(args[\"input\"]).read().strip().split(\"\\n\")"
   ]
  },
  {
   "cell_type": "code",
   "execution_count": null,
   "id": "behind-employee",
   "metadata": {},
   "outputs": [],
   "source": [
    "# load our object detector and label binarizer from disk\n",
    "print(\"[INFO] loading object detector...\")\n",
    "model = load_model(config.MODEL_PATH)\n",
    "lb = pickle.loads(open(config.LB_PATH, \"rb\").read())"
   ]
  },
  {
   "cell_type": "code",
   "execution_count": null,
   "id": "fantastic-retailer",
   "metadata": {},
   "outputs": [],
   "source": [
    "# loop over the images that we'll be testing using our bounding box\n",
    "# regression model\n",
    "for imagePath in imagePaths:\n",
    "    # load the input image (in Keras format) from disk and preprocess\n",
    "    # it, scaling the pixel intensities to the range [0, 1]\n",
    "    image = load_img(imagePath, target_size=(224, 224))\n",
    "    image = img_to_array(image) / 255.0\n",
    "    image = np.expand_dims(image, axis=0)\n",
    "    # predict the bounding box of the object along with the class\n",
    "    # label\n",
    "    (boxPreds, labelPreds) = model.predict(image)\n",
    "    (startX, startY, endX, endY) = boxPreds[0]\n",
    "    # determine the class label with the largest predicted\n",
    "    # probability\n",
    "    i = np.argmax(labelPreds, axis=1)\n",
    "    label = lb.classes_[i][0]"
   ]
  },
  {
   "cell_type": "code",
   "execution_count": null,
   "id": "infectious-burton",
   "metadata": {},
   "outputs": [],
   "source": [
    "# load the input image (in OpenCV format), resize it such that it\n",
    "# fits on our screen, and grab its dimensions\n",
    "image = cv2.imread(imagePath)\n",
    "image = imutils.resize(image, width=600)\n",
    "(h, w) = image.shape[:2]\n",
    "# scale the predicted bounding box coordinates based on the image\n",
    "# dimensions\n",
    "startX = int(startX * w)\n",
    "startY = int(startY * h)\n",
    "endX = int(endX * w)\n",
    "endY = int(endY * h)\n",
    "# draw the predicted bounding box and class label on the image\n",
    "y = startY - 10 if startY - 10 > 10 else startY + 10\n",
    "cv2.putText(image, label, (startX, y), cv2.FONT_HERSHEY_SIMPLEX,\n",
    "    0.65, (0, 255, 0), 2)\n",
    "cv2.rectangle(image, (startX, startY), (endX, endY),\n",
    "    (0, 255, 0), 2)\n",
    "# show the output image\n",
    "cv2.imshow(\"Output\", image)\n",
    "cv2.waitKey(0)"
   ]
  },
  {
   "cell_type": "code",
   "execution_count": null,
   "id": "historical-calgary",
   "metadata": {},
   "outputs": [],
   "source": []
  }
 ],
 "metadata": {
  "kernelspec": {
   "display_name": "Python 3",
   "language": "python",
   "name": "python3"
  },
  "language_info": {
   "codemirror_mode": {
    "name": "ipython",
    "version": 3
   },
   "file_extension": ".py",
   "mimetype": "text/x-python",
   "name": "python",
   "nbconvert_exporter": "python",
   "pygments_lexer": "ipython3",
   "version": "3.8.8"
  }
 },
 "nbformat": 4,
 "nbformat_minor": 5
}
