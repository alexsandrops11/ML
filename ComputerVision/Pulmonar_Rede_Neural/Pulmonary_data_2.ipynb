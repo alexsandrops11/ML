{
 "cells": [
  {
   "cell_type": "markdown",
   "metadata": {},
   "source": [
    "# Challenge Kaggle - Visual In-Depth EDA – VinBigData Competition Data\n",
    "\n",
    "    Create pckl data"
   ]
  },
  {
   "cell_type": "code",
   "execution_count": 1,
   "metadata": {},
   "outputs": [],
   "source": [
    "import numpy as np\n",
    "import matplotlib.pyplot as plt\n",
    "from PIL import Image \n",
    "import pydicom\n",
    "import os\n",
    "import glob\n",
    "import pickle\n",
    "import pandas as pd\n",
    "import csv\n",
    "from pathlib import Path\n",
    "from IPython.display import HTML\n",
    "from os import listdir, mkdir\n",
    "import imageio\n",
    "from IPython import display\n",
    "from sklearn.metrics import roc_auc_score, roc_curve, auc\n",
    "import scipy\n",
    "from numpy import random as rd"
   ]
  },
  {
   "cell_type": "markdown",
   "metadata": {},
   "source": [
    "### Moves files for temporary folder"
   ]
  },
  {
   "cell_type": "code",
   "execution_count": 2,
   "metadata": {},
   "outputs": [],
   "source": [
    "path0 = 'D:/pickle/' # diretório onde arquivos estão salvos\n",
    "path = 'D:/data/' # diretório destino dos arquivos\n",
    "os.chdir(path0)\n",
    "files=glob.glob(\"*.pckl\") # tipo do arquivo"
   ]
  },
  {
   "cell_type": "code",
   "execution_count": 3,
   "metadata": {},
   "outputs": [],
   "source": [
    "folder_num = 30\n",
    "folder_name = 'grupo'\n",
    "for i in range(0, folder_num):\n",
    "    new_folder = path + folder_name + str(i)\n",
    "    os.makedirs(new_folder)"
   ]
  },
  {
   "cell_type": "code",
   "execution_count": 4,
   "metadata": {},
   "outputs": [],
   "source": [
    "for i in range(0, folder_num):\n",
    "    os.chdir(path0)\n",
    "    files=glob.glob(\"*.pckl\")\n",
    "    \n",
    "    imagens = rd.choice(range(len(files)), size = 1024, replace = False)\n",
    "    \n",
    "    for j in imagens:\n",
    "        os.link(path0 + files[j],\n",
    "                path + folder_name + str(i) + '/' + files[j])\n",
    "        \n",
    "    for k in imagens:\n",
    "        os.remove(path0 + files[k])"
   ]
  },
  {
   "cell_type": "markdown",
   "metadata": {},
   "source": [
    "### Create pckl files"
   ]
  },
  {
   "cell_type": "code",
   "execution_count": 2,
   "metadata": {},
   "outputs": [],
   "source": [
    "dados = pd.read_csv('D:/ClassCSV/train-multiple-targets.csv')\n",
    "dataf = dados\n",
    "dataf.drop('Unnamed: 0', axis = 1, inplace = True)"
   ]
  },
  {
   "cell_type": "code",
   "execution_count": 5,
   "metadata": {},
   "outputs": [
    {
     "name": "stderr",
     "output_type": "stream",
     "text": [
      "<ipython-input-5-db4ff4542528>:20: RuntimeWarning: More than 20 figures have been opened. Figures created through the pyplot interface (`matplotlib.pyplot.figure`) are retained until explicitly closed and may consume too much memory. (To control this warning, see the rcParam `figure.max_open_warning`).\n",
      "  fig = plt.figure(figsize=(10,12))\n"
     ]
    },
    {
     "data": {
      "text/plain": [
       "<Figure size 720x864 with 0 Axes>"
      ]
     },
     "metadata": {},
     "output_type": "display_data"
    },
    {
     "data": {
      "text/plain": [
       "<Figure size 720x864 with 0 Axes>"
      ]
     },
     "metadata": {},
     "output_type": "display_data"
    },
    {
     "data": {
      "text/plain": [
       "<Figure size 720x864 with 0 Axes>"
      ]
     },
     "metadata": {},
     "output_type": "display_data"
    },
    {
     "data": {
      "text/plain": [
       "<Figure size 720x864 with 0 Axes>"
      ]
     },
     "metadata": {},
     "output_type": "display_data"
    },
    {
     "data": {
      "text/plain": [
       "<Figure size 720x864 with 0 Axes>"
      ]
     },
     "metadata": {},
     "output_type": "display_data"
    },
    {
     "data": {
      "text/plain": [
       "<Figure size 720x864 with 0 Axes>"
      ]
     },
     "metadata": {},
     "output_type": "display_data"
    },
    {
     "data": {
      "text/plain": [
       "<Figure size 720x864 with 0 Axes>"
      ]
     },
     "metadata": {},
     "output_type": "display_data"
    },
    {
     "data": {
      "text/plain": [
       "<Figure size 720x864 with 0 Axes>"
      ]
     },
     "metadata": {},
     "output_type": "display_data"
    },
    {
     "data": {
      "text/plain": [
       "<Figure size 720x864 with 0 Axes>"
      ]
     },
     "metadata": {},
     "output_type": "display_data"
    },
    {
     "data": {
      "text/plain": [
       "<Figure size 720x864 with 0 Axes>"
      ]
     },
     "metadata": {},
     "output_type": "display_data"
    },
    {
     "data": {
      "text/plain": [
       "<Figure size 720x864 with 0 Axes>"
      ]
     },
     "metadata": {},
     "output_type": "display_data"
    },
    {
     "data": {
      "text/plain": [
       "<Figure size 720x864 with 0 Axes>"
      ]
     },
     "metadata": {},
     "output_type": "display_data"
    },
    {
     "data": {
      "text/plain": [
       "<Figure size 720x864 with 0 Axes>"
      ]
     },
     "metadata": {},
     "output_type": "display_data"
    },
    {
     "data": {
      "text/plain": [
       "<Figure size 720x864 with 0 Axes>"
      ]
     },
     "metadata": {},
     "output_type": "display_data"
    },
    {
     "data": {
      "text/plain": [
       "<Figure size 720x864 with 0 Axes>"
      ]
     },
     "metadata": {},
     "output_type": "display_data"
    },
    {
     "data": {
      "text/plain": [
       "<Figure size 720x864 with 0 Axes>"
      ]
     },
     "metadata": {},
     "output_type": "display_data"
    },
    {
     "data": {
      "text/plain": [
       "<Figure size 720x864 with 0 Axes>"
      ]
     },
     "metadata": {},
     "output_type": "display_data"
    },
    {
     "data": {
      "text/plain": [
       "<Figure size 720x864 with 0 Axes>"
      ]
     },
     "metadata": {},
     "output_type": "display_data"
    },
    {
     "data": {
      "text/plain": [
       "<Figure size 720x864 with 0 Axes>"
      ]
     },
     "metadata": {},
     "output_type": "display_data"
    },
    {
     "data": {
      "text/plain": [
       "<Figure size 720x864 with 0 Axes>"
      ]
     },
     "metadata": {},
     "output_type": "display_data"
    },
    {
     "data": {
      "text/plain": [
       "<Figure size 720x864 with 0 Axes>"
      ]
     },
     "metadata": {},
     "output_type": "display_data"
    },
    {
     "data": {
      "text/plain": [
       "<Figure size 720x864 with 0 Axes>"
      ]
     },
     "metadata": {},
     "output_type": "display_data"
    },
    {
     "data": {
      "text/plain": [
       "<Figure size 720x864 with 0 Axes>"
      ]
     },
     "metadata": {},
     "output_type": "display_data"
    },
    {
     "data": {
      "text/plain": [
       "<Figure size 720x864 with 0 Axes>"
      ]
     },
     "metadata": {},
     "output_type": "display_data"
    },
    {
     "data": {
      "text/plain": [
       "<Figure size 720x864 with 0 Axes>"
      ]
     },
     "metadata": {},
     "output_type": "display_data"
    },
    {
     "data": {
      "text/plain": [
       "<Figure size 720x864 with 0 Axes>"
      ]
     },
     "metadata": {},
     "output_type": "display_data"
    },
    {
     "data": {
      "text/plain": [
       "<Figure size 720x864 with 0 Axes>"
      ]
     },
     "metadata": {},
     "output_type": "display_data"
    },
    {
     "data": {
      "text/plain": [
       "<Figure size 720x864 with 0 Axes>"
      ]
     },
     "metadata": {},
     "output_type": "display_data"
    },
    {
     "data": {
      "text/plain": [
       "<Figure size 720x864 with 0 Axes>"
      ]
     },
     "metadata": {},
     "output_type": "display_data"
    },
    {
     "data": {
      "text/plain": [
       "<Figure size 720x864 with 0 Axes>"
      ]
     },
     "metadata": {},
     "output_type": "display_data"
    }
   ],
   "source": [
    "for run in range(0, folder_num):\n",
    "    # read files\n",
    "    caminho = 'D:/data/grupo' + str(run)\n",
    "    os.chdir(caminho)\n",
    "    files=glob.glob(\"*.pckl\")\n",
    "    \n",
    "    # Create label for augmented images\n",
    "    Y = np.zeros((len(files),15))\n",
    "    for i in range(len(files)):\n",
    "        for j in range(len(dataf)): \n",
    "            if files[i][8:40] == dataf.iloc[j,0]:\n",
    "                for k in range(15):    \n",
    "                    Y[i,k] = dataf.iloc[j][k+1]\n",
    "    \n",
    "    # Load data\n",
    "    f = open(files[0], 'rb')\n",
    "    X = pickle.load(f)\n",
    "    \n",
    "    ### Load images\n",
    "    fig = plt.figure(figsize=(10,12))\n",
    "    X   = np.zeros((len(files),500,500))\n",
    "    for j in range(0,len(files)):\n",
    "        f = open(files[j], 'rb')\n",
    "        X[j] = pickle.load(f)\n",
    "    \n",
    "    # Resize images\n",
    "    Xr   = np.zeros((len(files),250,250))\n",
    "    for j in range(0,len(files)):\n",
    "        Xr[j] = scipy.ndimage.interpolation.zoom(X[j], [0.5, 0.5])\n",
    "    \n",
    "    ## construct tree channels\n",
    "    Xt = np.zeros((len(files),250,250,3)) #RGB\n",
    "    Xt[:,:,:,0] = Xr[:,:,:]\n",
    "    Xt[:,:,:,1] = Xr[:,:,:]\n",
    "    Xt[:,:,:,2] = Xr[:,:,:]\n",
    "    \n",
    "    ## Save images and labels in pckl format\n",
    "    Path     =  'C:/Users/Felipe/Documents/DataSets/Pulmonary/Data_pulmonary' + str(run) + '.pckl'\n",
    "    f = open(Path, 'wb')\n",
    "    pickle.dump([Xt,Y], f)\n",
    "    f.close()"
   ]
  },
  {
   "cell_type": "markdown",
   "metadata": {},
   "source": [
    "### Verification"
   ]
  },
  {
   "cell_type": "code",
   "execution_count": null,
   "metadata": {},
   "outputs": [],
   "source": [
    "number_run = 0\n",
    "Path         =  \"C:/Users/Felipe/Documents/DataSets/Pulmonary/Data_pulmonary\" + str(number_run) + \".pckl\"\n",
    "f = open(Path, 'rb')\n",
    "[Xt,Y] = pickle.load(f)"
   ]
  },
  {
   "cell_type": "code",
   "execution_count": null,
   "metadata": {},
   "outputs": [],
   "source": [
    "plt.imshow(Xt[0,:,:,1],cmap=plt.cm.bone)\n",
    "print(Y[0])"
   ]
  },
  {
   "cell_type": "code",
   "execution_count": null,
   "metadata": {},
   "outputs": [],
   "source": [
    "Path         =  \"D:/data/grupo0/AUG_H_5_8015e5edbf16541fef78e6f8859764e4.pckl\"\n",
    "f = open(Path, 'rb')\n",
    "X = pickle.load(f)"
   ]
  },
  {
   "cell_type": "code",
   "execution_count": null,
   "metadata": {},
   "outputs": [],
   "source": [
    "plt.imshow(X,cmap=plt.cm.bone)"
   ]
  },
  {
   "cell_type": "code",
   "execution_count": null,
   "metadata": {},
   "outputs": [],
   "source": [
    "id_imagem = '8015e5edbf16541fef78e6f8859764e4'\n",
    "dataf.loc[(dataf[\"image_id\"] == id_imagem)]"
   ]
  },
  {
   "cell_type": "code",
   "execution_count": null,
   "metadata": {},
   "outputs": [],
   "source": []
  }
 ],
 "metadata": {
  "kernelspec": {
   "display_name": "Python 3",
   "language": "python",
   "name": "python3"
  },
  "language_info": {
   "codemirror_mode": {
    "name": "ipython",
    "version": 3
   },
   "file_extension": ".py",
   "mimetype": "text/x-python",
   "name": "python",
   "nbconvert_exporter": "python",
   "pygments_lexer": "ipython3",
   "version": "3.8.5"
  }
 },
 "nbformat": 4,
 "nbformat_minor": 4
}
