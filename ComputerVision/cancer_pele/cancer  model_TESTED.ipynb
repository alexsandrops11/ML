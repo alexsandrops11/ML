{
 "cells": [
  {
   "cell_type": "code",
   "execution_count": 1,
   "metadata": {},
   "outputs": [],
   "source": [
    "import numpy as np\n",
    "import matplotlib.pyplot as plt\n",
    "from PIL import Image \n",
    "import os\n",
    "import glob\n",
    "import pickle\n",
    "import pandas as pd\n",
    "import csv\n",
    "from pathlib import Path\n",
    "from IPython.display import HTML\n",
    "from os import listdir, mkdir\n",
    "\n",
    "from IPython import display\n",
    "\n",
    "import tensorflow as tf\n",
    "from keras.models import load_model\n",
    "from keras import layers \n",
    "from keras.layers import Concatenate,Input, Dense, Activation, ZeroPadding2D, \\\n",
    "BatchNormalization, Flatten, Conv2D \n",
    "from keras.layers import AveragePooling2D, MaxPooling2D, Dropout, GlobalMaxPooling2D, \\\n",
    "GlobalAveragePooling2D \n",
    "from keras.models import Model, Sequential \n",
    "from keras.preprocessing import image \n",
    "from keras.utils import layer_utils \n",
    "from keras.utils.data_utils import get_file \n",
    "from keras.applications.imagenet_utils import preprocess_input \n",
    "from sklearn.metrics import roc_auc_score, roc_curve, auc\n",
    "import winsound"
   ]
  },
  {
   "cell_type": "code",
   "execution_count": 2,
   "metadata": {},
   "outputs": [
    {
     "name": "stdout",
     "output_type": "stream",
     "text": [
      "3.8.8\n"
     ]
    }
   ],
   "source": [
    "from platform import python_version\n",
    "\n",
    "print(python_version())"
   ]
  },
  {
   "cell_type": "code",
   "execution_count": 3,
   "metadata": {},
   "outputs": [],
   "source": [
    "path0 = \"D:/cancer de pele/\" "
   ]
  },
  {
   "cell_type": "code",
   "execution_count": 4,
   "metadata": {},
   "outputs": [],
   "source": [
    "doen = list(['akiec' , 'bcc' , 'mel' , 'nv' , 'bkl','df', 'vasc'])"
   ]
  },
  {
   "cell_type": "code",
   "execution_count": 5,
   "metadata": {},
   "outputs": [
    {
     "data": {
      "text/html": [
       "<div>\n",
       "<style scoped>\n",
       "    .dataframe tbody tr th:only-of-type {\n",
       "        vertical-align: middle;\n",
       "    }\n",
       "\n",
       "    .dataframe tbody tr th {\n",
       "        vertical-align: top;\n",
       "    }\n",
       "\n",
       "    .dataframe thead th {\n",
       "        text-align: right;\n",
       "    }\n",
       "</style>\n",
       "<table border=\"1\" class=\"dataframe\">\n",
       "  <thead>\n",
       "    <tr style=\"text-align: right;\">\n",
       "      <th></th>\n",
       "      <th>lesion_id</th>\n",
       "      <th>image_id</th>\n",
       "      <th>dx</th>\n",
       "      <th>dx_type</th>\n",
       "      <th>age</th>\n",
       "      <th>sex</th>\n",
       "      <th>localization</th>\n",
       "    </tr>\n",
       "  </thead>\n",
       "  <tbody>\n",
       "    <tr>\n",
       "      <th>0</th>\n",
       "      <td>HAM_0000118</td>\n",
       "      <td>ISIC_0027419</td>\n",
       "      <td>bkl</td>\n",
       "      <td>histo</td>\n",
       "      <td>80.0</td>\n",
       "      <td>male</td>\n",
       "      <td>scalp</td>\n",
       "    </tr>\n",
       "    <tr>\n",
       "      <th>1</th>\n",
       "      <td>HAM_0000118</td>\n",
       "      <td>ISIC_0025030</td>\n",
       "      <td>bkl</td>\n",
       "      <td>histo</td>\n",
       "      <td>80.0</td>\n",
       "      <td>male</td>\n",
       "      <td>scalp</td>\n",
       "    </tr>\n",
       "    <tr>\n",
       "      <th>2</th>\n",
       "      <td>HAM_0002730</td>\n",
       "      <td>ISIC_0026769</td>\n",
       "      <td>bkl</td>\n",
       "      <td>histo</td>\n",
       "      <td>80.0</td>\n",
       "      <td>male</td>\n",
       "      <td>scalp</td>\n",
       "    </tr>\n",
       "    <tr>\n",
       "      <th>3</th>\n",
       "      <td>HAM_0002730</td>\n",
       "      <td>ISIC_0025661</td>\n",
       "      <td>bkl</td>\n",
       "      <td>histo</td>\n",
       "      <td>80.0</td>\n",
       "      <td>male</td>\n",
       "      <td>scalp</td>\n",
       "    </tr>\n",
       "    <tr>\n",
       "      <th>4</th>\n",
       "      <td>HAM_0001466</td>\n",
       "      <td>ISIC_0031633</td>\n",
       "      <td>bkl</td>\n",
       "      <td>histo</td>\n",
       "      <td>75.0</td>\n",
       "      <td>male</td>\n",
       "      <td>ear</td>\n",
       "    </tr>\n",
       "    <tr>\n",
       "      <th>5</th>\n",
       "      <td>HAM_0001466</td>\n",
       "      <td>ISIC_0027850</td>\n",
       "      <td>bkl</td>\n",
       "      <td>histo</td>\n",
       "      <td>75.0</td>\n",
       "      <td>male</td>\n",
       "      <td>ear</td>\n",
       "    </tr>\n",
       "    <tr>\n",
       "      <th>6</th>\n",
       "      <td>HAM_0002761</td>\n",
       "      <td>ISIC_0029176</td>\n",
       "      <td>bkl</td>\n",
       "      <td>histo</td>\n",
       "      <td>60.0</td>\n",
       "      <td>male</td>\n",
       "      <td>face</td>\n",
       "    </tr>\n",
       "    <tr>\n",
       "      <th>7</th>\n",
       "      <td>HAM_0002761</td>\n",
       "      <td>ISIC_0029068</td>\n",
       "      <td>bkl</td>\n",
       "      <td>histo</td>\n",
       "      <td>60.0</td>\n",
       "      <td>male</td>\n",
       "      <td>face</td>\n",
       "    </tr>\n",
       "    <tr>\n",
       "      <th>8</th>\n",
       "      <td>HAM_0005132</td>\n",
       "      <td>ISIC_0025837</td>\n",
       "      <td>bkl</td>\n",
       "      <td>histo</td>\n",
       "      <td>70.0</td>\n",
       "      <td>female</td>\n",
       "      <td>back</td>\n",
       "    </tr>\n",
       "    <tr>\n",
       "      <th>9</th>\n",
       "      <td>HAM_0005132</td>\n",
       "      <td>ISIC_0025209</td>\n",
       "      <td>bkl</td>\n",
       "      <td>histo</td>\n",
       "      <td>70.0</td>\n",
       "      <td>female</td>\n",
       "      <td>back</td>\n",
       "    </tr>\n",
       "    <tr>\n",
       "      <th>10</th>\n",
       "      <td>HAM_0001396</td>\n",
       "      <td>ISIC_0025276</td>\n",
       "      <td>bkl</td>\n",
       "      <td>histo</td>\n",
       "      <td>55.0</td>\n",
       "      <td>female</td>\n",
       "      <td>trunk</td>\n",
       "    </tr>\n",
       "    <tr>\n",
       "      <th>11</th>\n",
       "      <td>HAM_0004234</td>\n",
       "      <td>ISIC_0029396</td>\n",
       "      <td>bkl</td>\n",
       "      <td>histo</td>\n",
       "      <td>85.0</td>\n",
       "      <td>female</td>\n",
       "      <td>chest</td>\n",
       "    </tr>\n",
       "    <tr>\n",
       "      <th>12</th>\n",
       "      <td>HAM_0004234</td>\n",
       "      <td>ISIC_0025984</td>\n",
       "      <td>bkl</td>\n",
       "      <td>histo</td>\n",
       "      <td>85.0</td>\n",
       "      <td>female</td>\n",
       "      <td>chest</td>\n",
       "    </tr>\n",
       "    <tr>\n",
       "      <th>13</th>\n",
       "      <td>HAM_0001949</td>\n",
       "      <td>ISIC_0025767</td>\n",
       "      <td>bkl</td>\n",
       "      <td>histo</td>\n",
       "      <td>70.0</td>\n",
       "      <td>male</td>\n",
       "      <td>trunk</td>\n",
       "    </tr>\n",
       "    <tr>\n",
       "      <th>14</th>\n",
       "      <td>HAM_0001949</td>\n",
       "      <td>ISIC_0032417</td>\n",
       "      <td>bkl</td>\n",
       "      <td>histo</td>\n",
       "      <td>70.0</td>\n",
       "      <td>male</td>\n",
       "      <td>trunk</td>\n",
       "    </tr>\n",
       "  </tbody>\n",
       "</table>\n",
       "</div>"
      ],
      "text/plain": [
       "      lesion_id      image_id   dx dx_type   age     sex localization\n",
       "0   HAM_0000118  ISIC_0027419  bkl   histo  80.0    male        scalp\n",
       "1   HAM_0000118  ISIC_0025030  bkl   histo  80.0    male        scalp\n",
       "2   HAM_0002730  ISIC_0026769  bkl   histo  80.0    male        scalp\n",
       "3   HAM_0002730  ISIC_0025661  bkl   histo  80.0    male        scalp\n",
       "4   HAM_0001466  ISIC_0031633  bkl   histo  75.0    male          ear\n",
       "5   HAM_0001466  ISIC_0027850  bkl   histo  75.0    male          ear\n",
       "6   HAM_0002761  ISIC_0029176  bkl   histo  60.0    male         face\n",
       "7   HAM_0002761  ISIC_0029068  bkl   histo  60.0    male         face\n",
       "8   HAM_0005132  ISIC_0025837  bkl   histo  70.0  female         back\n",
       "9   HAM_0005132  ISIC_0025209  bkl   histo  70.0  female         back\n",
       "10  HAM_0001396  ISIC_0025276  bkl   histo  55.0  female        trunk\n",
       "11  HAM_0004234  ISIC_0029396  bkl   histo  85.0  female        chest\n",
       "12  HAM_0004234  ISIC_0025984  bkl   histo  85.0  female        chest\n",
       "13  HAM_0001949  ISIC_0025767  bkl   histo  70.0    male        trunk\n",
       "14  HAM_0001949  ISIC_0032417  bkl   histo  70.0    male        trunk"
      ]
     },
     "execution_count": 5,
     "metadata": {},
     "output_type": "execute_result"
    }
   ],
   "source": [
    "dados        = pd.read_csv(path0+\"HAM10000_metadata.csv\")\n",
    "dados.head(15)"
   ]
  },
  {
   "cell_type": "code",
   "execution_count": 6,
   "metadata": {},
   "outputs": [
    {
     "name": "stdout",
     "output_type": "stream",
     "text": [
      "Número de imagens únicas:  10015\n"
     ]
    }
   ],
   "source": [
    "id_img_unique = pd.unique(dados['image_id'])\n",
    "print(\"Número de imagens únicas: \", len(id_img_unique))"
   ]
  },
  {
   "cell_type": "code",
   "execution_count": 7,
   "metadata": {},
   "outputs": [
    {
     "name": "stdout",
     "output_type": "stream",
     "text": [
      "Número de classes:  7\n",
      "São elas: \n",
      " ['akiec', 'bcc', 'mel', 'nv', 'bkl', 'df', 'vasc']\n"
     ]
    }
   ],
   "source": [
    "id_class_unique = pd.unique(dados['dx'])\n",
    "numClasses = len(id_class_unique)\n",
    "\n",
    "print(\"Número de classes: \", numClasses)\n",
    "print(\"São elas: \\n\", doen)"
   ]
  },
  {
   "cell_type": "code",
   "execution_count": 8,
   "metadata": {},
   "outputs": [
    {
     "name": "stdout",
     "output_type": "stream",
     "text": [
      "ISIC_0024306\n"
     ]
    }
   ],
   "source": [
    "os.chdir('D:/cancer de pele/data_pickle/')\n",
    "files = glob.glob('*.pckl')\n",
    "print(files[0][:-5])"
   ]
  },
  {
   "cell_type": "code",
   "execution_count": 9,
   "metadata": {},
   "outputs": [
    {
     "data": {
      "text/plain": [
       "'ISIC_0024409'"
      ]
     },
     "execution_count": 9,
     "metadata": {},
     "output_type": "execute_result"
    }
   ],
   "source": [
    "files[103][:-5]"
   ]
  },
  {
   "cell_type": "code",
   "execution_count": 10,
   "metadata": {},
   "outputs": [
    {
     "data": {
      "text/plain": [
       "10015"
      ]
     },
     "execution_count": 10,
     "metadata": {},
     "output_type": "execute_result"
    }
   ],
   "source": [
    "len(files)"
   ]
  },
  {
   "cell_type": "code",
   "execution_count": 11,
   "metadata": {},
   "outputs": [
    {
     "name": "stdout",
     "output_type": "stream",
     "text": [
      "1000\n",
      "2000\n",
      "3000\n",
      "4000\n",
      "5000\n",
      "6000\n",
      "7000\n",
      "8000\n",
      "9000\n",
      "10000\n"
     ]
    }
   ],
   "source": [
    "lista = []\n",
    "idx = 0\n",
    "for k in files:\n",
    "    x = [0]*8\n",
    "    k =  k[:-5]\n",
    "    x[0] = k\n",
    "    res = dados.loc[(dados['image_id'] == k)]\n",
    "    for i in res['dx']:\n",
    "        j = int(doen.index(i) + 1)\n",
    "        x[j] = 1\n",
    "    lista.append(x)\n",
    "    idx += 1\n",
    "    if (idx%1000==0):\n",
    "        print(idx)"
   ]
  },
  {
   "cell_type": "code",
   "execution_count": 12,
   "metadata": {},
   "outputs": [
    {
     "name": "stdout",
     "output_type": "stream",
     "text": [
      "[['ISIC_0024306', 0, 0, 0, 1, 0, 0, 0], ['ISIC_0024307', 0, 0, 0, 1, 0, 0, 0], ['ISIC_0024308', 0, 0, 0, 1, 0, 0, 0], ['ISIC_0024309', 0, 0, 0, 1, 0, 0, 0], ['ISIC_0024310', 0, 0, 1, 0, 0, 0, 0], ['ISIC_0024311', 0, 0, 0, 1, 0, 0, 0], ['ISIC_0024312', 0, 0, 0, 0, 1, 0, 0], ['ISIC_0024313', 0, 0, 1, 0, 0, 0, 0], ['ISIC_0024314', 0, 0, 0, 1, 0, 0, 0], ['ISIC_0024315', 0, 0, 1, 0, 0, 0, 0], ['ISIC_0024316', 0, 0, 0, 1, 0, 0, 0], ['ISIC_0024317', 0, 0, 0, 1, 0, 0, 0], ['ISIC_0024318', 0, 0, 0, 0, 0, 1, 0], ['ISIC_0024319', 0, 0, 0, 1, 0, 0, 0], ['ISIC_0024320', 0, 0, 0, 1, 0, 0, 0], ['ISIC_0024321', 0, 0, 0, 1, 0, 0, 0], ['ISIC_0024322', 0, 0, 0, 1, 0, 0, 0], ['ISIC_0024323', 0, 0, 1, 0, 0, 0, 0], ['ISIC_0024324', 0, 0, 0, 0, 1, 0, 0], ['ISIC_0024325', 0, 0, 0, 1, 0, 0, 0], ['ISIC_0024326', 0, 0, 0, 1, 0, 0, 0], ['ISIC_0024327', 0, 0, 0, 1, 0, 0, 0], ['ISIC_0024328', 0, 0, 0, 1, 0, 0, 0], ['ISIC_0024329', 1, 0, 0, 0, 0, 0, 0], ['ISIC_0024330', 0, 0, 0, 0, 0, 1, 0], ['ISIC_0024331', 0, 1, 0, 0, 0, 0, 0], ['ISIC_0024332', 0, 1, 0, 0, 0, 0, 0], ['ISIC_0024333', 0, 0, 1, 0, 0, 0, 0], ['ISIC_0024334', 0, 0, 0, 1, 0, 0, 0], ['ISIC_0024335', 0, 0, 0, 1, 0, 0, 0], ['ISIC_0024336', 0, 0, 0, 0, 1, 0, 0], ['ISIC_0024337', 0, 0, 0, 0, 1, 0, 0], ['ISIC_0024338', 0, 0, 0, 0, 1, 0, 0], ['ISIC_0024339', 0, 0, 0, 1, 0, 0, 0], ['ISIC_0024340', 0, 0, 0, 1, 0, 0, 0], ['ISIC_0024341', 0, 0, 0, 1, 0, 0, 0], ['ISIC_0024342', 0, 0, 0, 1, 0, 0, 0], ['ISIC_0024343', 0, 0, 0, 1, 0, 0, 0], ['ISIC_0024344', 0, 0, 0, 1, 0, 0, 0], ['ISIC_0024345', 0, 1, 0, 0, 0, 0, 0], ['ISIC_0024346', 0, 0, 0, 1, 0, 0, 0], ['ISIC_0024347', 0, 0, 0, 1, 0, 0, 0], ['ISIC_0024348', 0, 0, 0, 1, 0, 0, 0], ['ISIC_0024349', 0, 0, 0, 1, 0, 0, 0], ['ISIC_0024350', 0, 0, 0, 1, 0, 0, 0], ['ISIC_0024351', 0, 0, 1, 0, 0, 0, 0], ['ISIC_0024352', 0, 0, 0, 1, 0, 0, 0], ['ISIC_0024353', 0, 0, 0, 1, 0, 0, 0], ['ISIC_0024354', 0, 0, 0, 1, 0, 0, 0], ['ISIC_0024355', 0, 0, 0, 1, 0, 0, 0], ['ISIC_0024356', 0, 0, 0, 1, 0, 0, 0], ['ISIC_0024357', 0, 0, 0, 1, 0, 0, 0], ['ISIC_0024358', 0, 0, 0, 0, 1, 0, 0], ['ISIC_0024359', 0, 0, 0, 1, 0, 0, 0], ['ISIC_0024360', 0, 1, 0, 0, 0, 0, 0], ['ISIC_0024361', 0, 0, 0, 1, 0, 0, 0], ['ISIC_0024362', 0, 0, 0, 1, 0, 0, 0], ['ISIC_0024363', 0, 0, 0, 1, 0, 0, 0], ['ISIC_0024364', 0, 0, 0, 1, 0, 0, 0], ['ISIC_0024365', 0, 0, 0, 1, 0, 0, 0], ['ISIC_0024366', 0, 0, 0, 1, 0, 0, 0], ['ISIC_0024367', 0, 0, 1, 0, 0, 0, 0], ['ISIC_0024368', 0, 0, 0, 1, 0, 0, 0], ['ISIC_0024369', 0, 0, 0, 1, 0, 0, 0], ['ISIC_0024370', 0, 0, 0, 0, 0, 0, 1], ['ISIC_0024371', 0, 0, 0, 0, 1, 0, 0], ['ISIC_0024372', 1, 0, 0, 0, 0, 0, 0], ['ISIC_0024373', 0, 0, 0, 1, 0, 0, 0], ['ISIC_0024374', 0, 0, 0, 1, 0, 0, 0], ['ISIC_0024375', 0, 0, 0, 0, 0, 0, 1], ['ISIC_0024376', 0, 0, 0, 1, 0, 0, 0], ['ISIC_0024377', 0, 0, 0, 1, 0, 0, 0], ['ISIC_0024378', 0, 0, 0, 1, 0, 0, 0], ['ISIC_0024379', 0, 0, 0, 1, 0, 0, 0], ['ISIC_0024380', 0, 0, 0, 1, 0, 0, 0], ['ISIC_0024381', 0, 0, 0, 0, 1, 0, 0], ['ISIC_0024382', 0, 0, 0, 0, 1, 0, 0], ['ISIC_0024383', 0, 0, 0, 0, 1, 0, 0], ['ISIC_0024384', 0, 0, 0, 1, 0, 0, 0], ['ISIC_0024385', 0, 0, 0, 1, 0, 0, 0], ['ISIC_0024386', 0, 0, 0, 0, 0, 1, 0], ['ISIC_0024387', 0, 0, 0, 1, 0, 0, 0], ['ISIC_0024388', 0, 0, 0, 1, 0, 0, 0], ['ISIC_0024389', 0, 0, 0, 1, 0, 0, 0], ['ISIC_0024390', 0, 0, 0, 1, 0, 0, 0], ['ISIC_0024391', 0, 0, 0, 1, 0, 0, 0], ['ISIC_0024392', 0, 0, 0, 1, 0, 0, 0], ['ISIC_0024393', 0, 0, 0, 1, 0, 0, 0], ['ISIC_0024394', 0, 0, 0, 1, 0, 0, 0], ['ISIC_0024395', 0, 0, 0, 1, 0, 0, 0], ['ISIC_0024396', 0, 0, 0, 0, 0, 1, 0], ['ISIC_0024397', 0, 0, 0, 1, 0, 0, 0], ['ISIC_0024398', 0, 0, 0, 1, 0, 0, 0], ['ISIC_0024399', 0, 0, 0, 1, 0, 0, 0], ['ISIC_0024400', 0, 0, 1, 0, 0, 0, 0], ['ISIC_0024401', 0, 0, 0, 1, 0, 0, 0], ['ISIC_0024402', 0, 0, 0, 0, 0, 0, 1], ['ISIC_0024403', 0, 1, 0, 0, 0, 0, 0], ['ISIC_0024404', 0, 0, 0, 1, 0, 0, 0], ['ISIC_0024405', 0, 0, 0, 1, 0, 0, 0], ['ISIC_0024406', 0, 0, 0, 1, 0, 0, 0], ['ISIC_0024407', 0, 0, 0, 1, 0, 0, 0], ['ISIC_0024408', 0, 0, 0, 0, 1, 0, 0], ['ISIC_0024409', 0, 0, 0, 0, 1, 0, 0], ['ISIC_0024410', 0, 0, 1, 0, 0, 0, 0], ['ISIC_0024411', 0, 1, 0, 0, 0, 0, 0], ['ISIC_0024412', 0, 0, 0, 0, 1, 0, 0], ['ISIC_0024413', 0, 0, 0, 1, 0, 0, 0], ['ISIC_0024414', 0, 0, 0, 1, 0, 0, 0], ['ISIC_0024415', 0, 0, 0, 1, 0, 0, 0], ['ISIC_0024416', 0, 0, 0, 1, 0, 0, 0], ['ISIC_0024417', 0, 0, 0, 1, 0, 0, 0], ['ISIC_0024418', 1, 0, 0, 0, 0, 0, 0], ['ISIC_0024419', 0, 0, 0, 1, 0, 0, 0], ['ISIC_0024420', 0, 0, 0, 0, 1, 0, 0], ['ISIC_0024421', 0, 0, 0, 1, 0, 0, 0], ['ISIC_0024422', 0, 0, 0, 0, 1, 0, 0], ['ISIC_0024423', 0, 0, 0, 1, 0, 0, 0], ['ISIC_0024424', 0, 0, 0, 1, 0, 0, 0], ['ISIC_0024425', 0, 0, 0, 1, 0, 0, 0], ['ISIC_0024426', 0, 0, 0, 0, 1, 0, 0], ['ISIC_0024427', 0, 0, 0, 1, 0, 0, 0], ['ISIC_0024428', 0, 0, 0, 1, 0, 0, 0]]\n"
     ]
    }
   ],
   "source": [
    "print(lista[:123])"
   ]
  },
  {
   "cell_type": "code",
   "execution_count": 13,
   "metadata": {},
   "outputs": [
    {
     "name": "stdout",
     "output_type": "stream",
     "text": [
      "['image_id', 'akiec', 'bcc', 'mel', 'nv', 'bkl', 'df', 'vasc']\n"
     ]
    }
   ],
   "source": [
    "colLabels = ['image_id'] + doen\n",
    "print(colLabels)\n",
    "\n",
    "dataf = pd.DataFrame(lista, columns=colLabels)\n",
    "dataf.to_csv('C:/Users/alex_/Desktop/cancer-targetsTESTE.csv')"
   ]
  },
  {
   "cell_type": "code",
   "execution_count": null,
   "metadata": {},
   "outputs": [],
   "source": [
    "dataf.head()"
   ]
  },
  {
   "cell_type": "code",
   "execution_count": null,
   "metadata": {},
   "outputs": [],
   "source": [
    "len(dataf)"
   ]
  },
  {
   "cell_type": "code",
   "execution_count": null,
   "metadata": {},
   "outputs": [],
   "source": [
    "os.chdir(path0+\"data_pckl/\")\n",
    "files=glob.glob(\"*.pckl\")"
   ]
  },
  {
   "cell_type": "code",
   "execution_count": null,
   "metadata": {},
   "outputs": [],
   "source": [
    "files[0][:-5]"
   ]
  },
  {
   "cell_type": "code",
   "execution_count": null,
   "metadata": {},
   "outputs": [],
   "source": [
    "dataf.iloc[3000:3001,:]"
   ]
  },
  {
   "cell_type": "code",
   "execution_count": null,
   "metadata": {},
   "outputs": [],
   "source": [
    "Y = np.zeros((len(files),7))\n",
    "for i in range(len(files)):\n",
    "  for j in range(len(dataf)): \n",
    "     if files[i][:-5] == dataf.iloc[j,0]:\n",
    "        for k in range(7):    \n",
    "          Y[i,k] = dataf.iloc[j][k+1]"
   ]
  },
  {
   "cell_type": "code",
   "execution_count": null,
   "metadata": {},
   "outputs": [],
   "source": [
    "Y"
   ]
  },
  {
   "cell_type": "code",
   "execution_count": null,
   "metadata": {},
   "outputs": [],
   "source": [
    "### Load data\n",
    "f = open(files[0], 'rb')\n",
    "X = pickle.load(f)"
   ]
  },
  {
   "cell_type": "code",
   "execution_count": null,
   "metadata": {},
   "outputs": [],
   "source": [
    "plt.imshow(X,cmap=plt.cm.bone)"
   ]
  },
  {
   "cell_type": "code",
   "execution_count": null,
   "metadata": {
    "scrolled": true
   },
   "outputs": [],
   "source": [
    "fig = plt.figure(figsize=(10,12))\n",
    "X   = np.zeros((len(files),450,600,3))\n",
    "for j in range(0,len(files)):\n",
    "   f = open(files[j], 'rb')\n",
    "   X[j] = pickle.load(f)"
   ]
  },
  {
   "cell_type": "code",
   "execution_count": null,
   "metadata": {},
   "outputs": [],
   "source": [
    "Path     =  path0 + \"0-Data.pckl\"\n"
   ]
  },
  {
   "cell_type": "code",
   "execution_count": null,
   "metadata": {},
   "outputs": [],
   "source": [
    "f = open(Path, 'wb')\n",
    "pickle.dump([X,Y], f)\n",
    "f.close()"
   ]
  },
  {
   "cell_type": "code",
   "execution_count": null,
   "metadata": {},
   "outputs": [],
   "source": [
    "f = open(Path, 'rb')\n",
    "[X,Y] = pickle.load(f)"
   ]
  },
  {
   "cell_type": "code",
   "execution_count": null,
   "metadata": {},
   "outputs": [],
   "source": [
    "plt.imshow(X[0,:,:,2])\n",
    "print(Y[0])"
   ]
  },
  {
   "cell_type": "code",
   "execution_count": null,
   "metadata": {},
   "outputs": [],
   "source": [
    "def KerasModel(input_shape):  \n",
    "    NumClass = 7\n",
    "    X_input  = Input(input_shape)\n",
    "     \n",
    "    # Zero-Padding: pads the border of X_input with zeroes\n",
    "    X = ZeroPadding2D((3, 3))(X_input)\n",
    "\n",
    "    # CONV -> BN -> RELU Block applied to X\n",
    "    X = Conv2D(40, (3, 3), strides = (1, 1), name = 'conv0')(X)    \n",
    "    X = BatchNormalization(axis = 3, name = 'bn0')(X)\n",
    "    X = Activation('relu')(X)\n",
    "\n",
    "    # MAXPOOL\n",
    "    X = MaxPooling2D((2, 2), name='max_pool')(X)\n",
    "    \n",
    "    ##\n",
    "    X = Conv2D(24, (3, 3), strides = (1, 1), name = 'conv1')(X)    \n",
    "    X = BatchNormalization(axis = 3, name = 'bn1')(X)\n",
    "    X = Activation('relu')(X)\n",
    "    X = MaxPooling2D((2, 2), name='max_pool1')(X)  \n",
    "    ##\n",
    "    \n",
    "    ##\n",
    "    X = Conv2D(16, (3, 3), strides = (1, 1), name = 'conv2')(X)    \n",
    "    X = BatchNormalization(axis = 3, name = 'bn2')(X)\n",
    "    X = Activation('relu')(X)\n",
    "    X = MaxPooling2D((2, 2), name='max_pool2')(X)  \n",
    "    ##    \n",
    "\n",
    "    ##   New layer\n",
    "    X = Conv2D(8, (3, 3), strides = (1, 1), name = 'conv3')(X)    \n",
    "    X = BatchNormalization(axis = 3, name = 'bn3')(X)\n",
    "    X = Activation('relu')(X)\n",
    "    X = MaxPooling2D((2, 2), name='max_pool3')(X)  \n",
    "    ##    \n",
    "\n",
    "\n",
    "    # FLATTEN X (means convert it to a vector) + FULLYCONNECTED\n",
    "    X = Flatten()(X)\n",
    "    X = Dense(NumClass, activation='sigmoid', name='fc')(X)\n",
    "\n",
    "    # Create model. This creates your Keras model instance, you'll use this instance to train/test the model.\n",
    "    model = Model(inputs = X_input, outputs = X, name='KerasModel')\n",
    "    \n",
    "    return model "
   ]
  },
  {
   "cell_type": "code",
   "execution_count": null,
   "metadata": {},
   "outputs": [],
   "source": [
    "# Construct the model\n",
    "ModelPulm = KerasModel(X[0].shape) # input dimention\n",
    "# Run the model\n",
    "ModelPulm.compile(loss='binary_crossentropy',optimizer='Adam', metrics=['accuracy'])"
   ]
  },
  {
   "cell_type": "code",
   "execution_count": null,
   "metadata": {},
   "outputs": [],
   "source": [
    "history = ModelPulm.fit( x=X, y=Y, batch_size=2**6, epochs=5) ## batch = 2**6\n",
    "plt.plot(history.history['accuracy'])\n",
    "plt.ylabel('accuracy')\n",
    "plt.xlabel('epoch')\n",
    "plt.legend(['train', 'test'], loc='upper left')\n",
    "plt.show()"
   ]
  },
  {
   "cell_type": "code",
   "execution_count": null,
   "metadata": {},
   "outputs": [],
   "source": [
    "plt.plot(history.history['loss'])\n",
    "plt.ylabel('accuracy')\n",
    "plt.xlabel('epoch')\n",
    "plt.legend(['train', 'test'], loc='upper left')\n",
    "plt.show()"
   ]
  },
  {
   "cell_type": "code",
   "execution_count": null,
   "metadata": {},
   "outputs": [],
   "source": [
    "Pegar aleatoriamente\n",
    "Resize nas img\n",
    "ver data do tensorflow lite"
   ]
  }
 ],
 "metadata": {
  "kernelspec": {
   "display_name": "Python 3",
   "language": "python",
   "name": "python3"
  },
  "language_info": {
   "codemirror_mode": {
    "name": "ipython",
    "version": 3
   },
   "file_extension": ".py",
   "mimetype": "text/x-python",
   "name": "python",
   "nbconvert_exporter": "python",
   "pygments_lexer": "ipython3",
   "version": "3.8.8"
  }
 },
 "nbformat": 4,
 "nbformat_minor": 4
}
