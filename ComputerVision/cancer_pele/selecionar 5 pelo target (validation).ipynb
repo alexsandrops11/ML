{
 "cells": [
  {
   "cell_type": "code",
   "execution_count": 1,
   "metadata": {},
   "outputs": [],
   "source": [
    "# Bibliotecas\n",
    "import pandas as pd\n",
    "import os\n",
    "import matplotlib.pyplot as plt\n",
    "import numpy as np\n",
    "from PIL import Image, ImageFilter\n",
    "import glob\n",
    "from numpy import random as rd\n",
    "import pickle\n",
    "import csv\n",
    "from keras.models import load_model"
   ]
  },
  {
   "cell_type": "code",
   "execution_count": 2,
   "metadata": {},
   "outputs": [
    {
     "data": {
      "text/html": [
       "<div>\n",
       "<style scoped>\n",
       "    .dataframe tbody tr th:only-of-type {\n",
       "        vertical-align: middle;\n",
       "    }\n",
       "\n",
       "    .dataframe tbody tr th {\n",
       "        vertical-align: top;\n",
       "    }\n",
       "\n",
       "    .dataframe thead th {\n",
       "        text-align: right;\n",
       "    }\n",
       "</style>\n",
       "<table border=\"1\" class=\"dataframe\">\n",
       "  <thead>\n",
       "    <tr style=\"text-align: right;\">\n",
       "      <th></th>\n",
       "      <th>image_id</th>\n",
       "      <th>akiec</th>\n",
       "      <th>bcc</th>\n",
       "      <th>mel</th>\n",
       "      <th>nv</th>\n",
       "      <th>bkl</th>\n",
       "      <th>df</th>\n",
       "      <th>vasc</th>\n",
       "    </tr>\n",
       "  </thead>\n",
       "  <tbody>\n",
       "    <tr>\n",
       "      <th>0</th>\n",
       "      <td>ISIC_0024306</td>\n",
       "      <td>0</td>\n",
       "      <td>0</td>\n",
       "      <td>0</td>\n",
       "      <td>1</td>\n",
       "      <td>0</td>\n",
       "      <td>0</td>\n",
       "      <td>0</td>\n",
       "    </tr>\n",
       "    <tr>\n",
       "      <th>1</th>\n",
       "      <td>ISIC_0024310</td>\n",
       "      <td>0</td>\n",
       "      <td>0</td>\n",
       "      <td>1</td>\n",
       "      <td>0</td>\n",
       "      <td>0</td>\n",
       "      <td>0</td>\n",
       "      <td>0</td>\n",
       "    </tr>\n",
       "    <tr>\n",
       "      <th>2</th>\n",
       "      <td>ISIC_0024329</td>\n",
       "      <td>1</td>\n",
       "      <td>0</td>\n",
       "      <td>0</td>\n",
       "      <td>0</td>\n",
       "      <td>0</td>\n",
       "      <td>0</td>\n",
       "      <td>0</td>\n",
       "    </tr>\n",
       "    <tr>\n",
       "      <th>3</th>\n",
       "      <td>ISIC_0024348</td>\n",
       "      <td>0</td>\n",
       "      <td>0</td>\n",
       "      <td>0</td>\n",
       "      <td>1</td>\n",
       "      <td>0</td>\n",
       "      <td>0</td>\n",
       "      <td>0</td>\n",
       "    </tr>\n",
       "    <tr>\n",
       "      <th>4</th>\n",
       "      <td>ISIC_0024400</td>\n",
       "      <td>0</td>\n",
       "      <td>0</td>\n",
       "      <td>1</td>\n",
       "      <td>0</td>\n",
       "      <td>0</td>\n",
       "      <td>0</td>\n",
       "      <td>0</td>\n",
       "    </tr>\n",
       "  </tbody>\n",
       "</table>\n",
       "</div>"
      ],
      "text/plain": [
       "       image_id  akiec  bcc  mel  nv  bkl  df  vasc\n",
       "0  ISIC_0024306      0    0    0   1    0   0     0\n",
       "1  ISIC_0024310      0    0    1   0    0   0     0\n",
       "2  ISIC_0024329      1    0    0   0    0   0     0\n",
       "3  ISIC_0024348      0    0    0   1    0   0     0\n",
       "4  ISIC_0024400      0    0    1   0    0   0     0"
      ]
     },
     "execution_count": 2,
     "metadata": {},
     "output_type": "execute_result"
    }
   ],
   "source": [
    "path0 = \"D:/cancer de pele/data_jpg/\"\n",
    "path1 = \"D:/cancer de pele/fts/\"\n",
    "\n",
    "dados = pd.read_csv('C:/Users/MADEIRA/Pictures/DATA CANCER/validation/target_validation.csv')\n",
    "dados.drop('Unnamed: 0', axis = 1, inplace = True)\n",
    "dados.head()\n",
    "\n"
   ]
  },
  {
   "cell_type": "code",
   "execution_count": 12,
   "metadata": {},
   "outputs": [
    {
     "name": "stdout",
     "output_type": "stream",
     "text": [
      "[]\n"
     ]
    }
   ],
   "source": [
    "size = 500\n",
    "os.chdir(path1)\n",
    "arq = glob.glob('*.pckl')\n",
    "print(arq)\n",
    "doen = [\"akiec\",\"bcc\", \"mel\",\"nv\", \"bkl\", \"df\", \"vasc\"]"
   ]
  },
  {
   "cell_type": "code",
   "execution_count": 13,
   "metadata": {},
   "outputs": [
    {
     "name": "stdout",
     "output_type": "stream",
     "text": [
      "[['ISIC_0024329', 'ISIC_0025331', 'ISIC_0026522', 'ISIC_0026525', 'ISIC_0027084'], ['ISIC_0024564', 'ISIC_0024573', 'ISIC_0026074', 'ISIC_0026337', 'ISIC_0026395'], ['ISIC_0024310', 'ISIC_0024400', 'ISIC_0024952', 'ISIC_0025531', 'ISIC_0026360'], ['ISIC_0024306', 'ISIC_0024348', 'ISIC_0024437', 'ISIC_0024476', 'ISIC_0024478'], ['ISIC_0024490', 'ISIC_0024850', 'ISIC_0025140', 'ISIC_0025699', 'ISIC_0025710'], ['ISIC_0025223', 'ISIC_0025302', 'ISIC_0025980', 'ISIC_0027141', 'ISIC_0029177'], ['ISIC_0025249', 'ISIC_0026092', 'ISIC_0026163', 'ISIC_0027256', 'ISIC_0029404']]\n"
     ]
    }
   ],
   "source": [
    "fotos = []\n",
    "akiec = dados.loc[dados['akiec']== True ]\n",
    "akiec = akiec.iloc[:5]\n",
    "fotos.append(akiec['image_id'].values.tolist())\n",
    "\n",
    "bcc = dados.loc[dados['bcc']== True ]\n",
    "bcc = bcc.iloc[:5]\n",
    "fotos.append(bcc['image_id'].values.tolist())\n",
    "\n",
    "mel = dados.loc[dados['mel']== True ]\n",
    "mel = mel.iloc[:5]\n",
    "fotos.append(mel['image_id'].values.tolist())\n",
    "\n",
    "nv = dados.loc[dados['nv']== True ]\n",
    "nv = nv.iloc[:5]\n",
    "fotos.append(nv['image_id'].values.tolist())\n",
    "\n",
    "bkl = dados.loc[dados['bkl']== True ]\n",
    "bkl = bkl.iloc[:5]\n",
    "fotos.append(bkl['image_id'].values.tolist())\n",
    "\n",
    "df = dados.loc[dados['df']== True ]\n",
    "df = df.iloc[:5]\n",
    "fotos.append(df['image_id'].values.tolist())\n",
    "\n",
    "vasc = dados.loc[dados['vasc']== True ]\n",
    "vasc = vasc.iloc[:5]\n",
    "fotos.append(vasc['image_id'].values.tolist())\n",
    "\n",
    "print(fotos)"
   ]
  },
  {
   "cell_type": "code",
   "execution_count": 17,
   "metadata": {},
   "outputs": [
    {
     "data": {
      "text/plain": [
       "'nv'"
      ]
     },
     "execution_count": 17,
     "metadata": {},
     "output_type": "execute_result"
    }
   ],
   "source": [
    "doen[3]"
   ]
  },
  {
   "cell_type": "code",
   "execution_count": 20,
   "metadata": {},
   "outputs": [],
   "source": [
    "x = 0\n",
    "for i in fotos:\n",
    "    for j in range(5):\n",
    "        os.link(path0 + i[j] + '.jpg', path1 + doen[x] + '/' + i[j] + '.jpg')\n",
    "    x = x + 1"
   ]
  },
  {
   "cell_type": "code",
   "execution_count": null,
   "metadata": {},
   "outputs": [],
   "source": []
  }
 ],
 "metadata": {
  "kernelspec": {
   "display_name": "Python 3",
   "language": "python",
   "name": "python3"
  },
  "language_info": {
   "codemirror_mode": {
    "name": "ipython",
    "version": 3
   },
   "file_extension": ".py",
   "mimetype": "text/x-python",
   "name": "python",
   "nbconvert_exporter": "python",
   "pygments_lexer": "ipython3",
   "version": "3.8.8"
  }
 },
 "nbformat": 4,
 "nbformat_minor": 4
}
