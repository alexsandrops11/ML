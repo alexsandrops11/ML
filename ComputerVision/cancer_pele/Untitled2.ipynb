{
 "cells": [
  {
   "cell_type": "code",
   "execution_count": 9,
   "id": "bacterial-grove",
   "metadata": {},
   "outputs": [],
   "source": [
    "import numpy as np\n",
    "import matplotlib.pyplot as plt\n",
    "from PIL import Image \n",
    "import pickle\n",
    "import glob\n",
    "import os\n",
    "import pandas as pd\n",
    "import csv\n",
    "from pathlib import Path\n",
    "from os import listdir, mkdir\n",
    "from IPython import display\n",
    "from matplotlib.image import imread\n",
    "from keras.models import load_model"
   ]
  },
  {
   "cell_type": "code",
   "execution_count": 10,
   "id": "angry-screening",
   "metadata": {},
   "outputs": [],
   "source": [
    "inputdir = \"C:/Users/alex_/Desktop/\"\n",
    "outputdir = \"C:/Users/alex_/Desktop/\"\n",
    "os.chdir(inputdir)\n",
    "x = glob.glob( \"*.jpeg\")\n",
    "arquivo = x[0]"
   ]
  },
  {
   "cell_type": "code",
   "execution_count": 23,
   "id": "motivated-tattoo",
   "metadata": {},
   "outputs": [
    {
     "name": "stdout",
     "output_type": "stream",
     "text": [
      "teste11\n"
     ]
    }
   ],
   "source": [
    "print(arquivo[:-5])"
   ]
  },
  {
   "cell_type": "code",
   "execution_count": 12,
   "id": "southern-passage",
   "metadata": {},
   "outputs": [],
   "source": [
    "imag = Image.open(os.path.join(inputdir, arquivo))\n",
    "redimensionada = imag.resize((250,250))\n",
    "redimensionada.save(os.path.join(outputdir, arquivo))"
   ]
  },
  {
   "cell_type": "code",
   "execution_count": 13,
   "id": "genetic-bandwidth",
   "metadata": {},
   "outputs": [],
   "source": [
    "dataset = imread(outputdir + arquivo)\n",
    "\n",
    "# save data\n",
    "path = inputdir + arquivo[:-4] + '.pckl' #diretório onde vai salvar as imagens\n",
    "f = open(path, 'wb')\n",
    "pickle.dump(dataset, f)\n",
    "f.close()"
   ]
  },
  {
   "cell_type": "code",
   "execution_count": 14,
   "id": "emerging-source",
   "metadata": {},
   "outputs": [
    {
     "data": {
      "text/html": [
       "<div>\n",
       "<style scoped>\n",
       "    .dataframe tbody tr th:only-of-type {\n",
       "        vertical-align: middle;\n",
       "    }\n",
       "\n",
       "    .dataframe tbody tr th {\n",
       "        vertical-align: top;\n",
       "    }\n",
       "\n",
       "    .dataframe thead th {\n",
       "        text-align: right;\n",
       "    }\n",
       "</style>\n",
       "<table border=\"1\" class=\"dataframe\">\n",
       "  <thead>\n",
       "    <tr style=\"text-align: right;\">\n",
       "      <th></th>\n",
       "      <th>image_id</th>\n",
       "      <th>akiec</th>\n",
       "      <th>bcc</th>\n",
       "      <th>mel</th>\n",
       "      <th>nv</th>\n",
       "      <th>bkl</th>\n",
       "      <th>df</th>\n",
       "      <th>vasc</th>\n",
       "    </tr>\n",
       "  </thead>\n",
       "  <tbody>\n",
       "    <tr>\n",
       "      <th>0</th>\n",
       "      <td>ISIC_0024306</td>\n",
       "      <td>0</td>\n",
       "      <td>0</td>\n",
       "      <td>0</td>\n",
       "      <td>1</td>\n",
       "      <td>0</td>\n",
       "      <td>0</td>\n",
       "      <td>0</td>\n",
       "    </tr>\n",
       "    <tr>\n",
       "      <th>1</th>\n",
       "      <td>ISIC_0024310</td>\n",
       "      <td>0</td>\n",
       "      <td>0</td>\n",
       "      <td>1</td>\n",
       "      <td>0</td>\n",
       "      <td>0</td>\n",
       "      <td>0</td>\n",
       "      <td>0</td>\n",
       "    </tr>\n",
       "    <tr>\n",
       "      <th>2</th>\n",
       "      <td>ISIC_0024324</td>\n",
       "      <td>0</td>\n",
       "      <td>0</td>\n",
       "      <td>0</td>\n",
       "      <td>0</td>\n",
       "      <td>1</td>\n",
       "      <td>0</td>\n",
       "      <td>0</td>\n",
       "    </tr>\n",
       "    <tr>\n",
       "      <th>3</th>\n",
       "      <td>ISIC_0024329</td>\n",
       "      <td>1</td>\n",
       "      <td>0</td>\n",
       "      <td>0</td>\n",
       "      <td>0</td>\n",
       "      <td>0</td>\n",
       "      <td>0</td>\n",
       "      <td>0</td>\n",
       "    </tr>\n",
       "    <tr>\n",
       "      <th>4</th>\n",
       "      <td>ISIC_0024342</td>\n",
       "      <td>0</td>\n",
       "      <td>0</td>\n",
       "      <td>0</td>\n",
       "      <td>1</td>\n",
       "      <td>0</td>\n",
       "      <td>0</td>\n",
       "      <td>0</td>\n",
       "    </tr>\n",
       "  </tbody>\n",
       "</table>\n",
       "</div>"
      ],
      "text/plain": [
       "       image_id  akiec  bcc  mel  nv  bkl  df  vasc\n",
       "0  ISIC_0024306      0    0    0   1    0   0     0\n",
       "1  ISIC_0024310      0    0    1   0    0   0     0\n",
       "2  ISIC_0024324      0    0    0   0    1   0     0\n",
       "3  ISIC_0024329      1    0    0   0    0   0     0\n",
       "4  ISIC_0024342      0    0    0   1    0   0     0"
      ]
     },
     "execution_count": 14,
     "metadata": {},
     "output_type": "execute_result"
    }
   ],
   "source": [
    "doen = ['akiec', 'bcc', 'mel', 'nv', 'bkl', 'df', 'vasc']\n",
    "path = 'C:/Users/alex_/Pictures/DATA CANCER/TESTE/cancer-targetsTESTE.csv'\n",
    "dados = pd.read_csv(path)\n",
    "dados.drop('Unnamed: 0', axis = 1, inplace = True)\n",
    "dados.head(5)"
   ]
  },
  {
   "cell_type": "code",
   "execution_count": 15,
   "id": "extensive-knitting",
   "metadata": {},
   "outputs": [],
   "source": [
    "i = 10\n",
    "j = 8\n",
    "ModelCancer = load_model('C:/Users/alex_/Pictures/DATA CANCER/modelo/cancer' + str(i) + '/ModelCancer-' + str(j) + '.h5')"
   ]
  },
  {
   "cell_type": "code",
   "execution_count": 37,
   "id": "adequate-tennis",
   "metadata": {},
   "outputs": [],
   "source": [
    "\n",
    "os.chdir(inputdir)\n",
    "target = []\n",
    "cont = 0\n",
    "\n",
    "\n",
    "x = [0]*9\n",
    "imgF = np.zeros((1,250,250,3))\n",
    "    \n",
    "x[0] = arquivo[:-5]\n",
    "\n",
    "\n",
    "name = arquivo[:-5] + '.pckl'\n",
    "f = open(name, 'rb')\n",
    "xt = pickle.load(f)\n",
    "\n",
    "imgF[0,:,:,:] = xt\n",
    "\n",
    "predi = ModelCancer.predict(imgF[:1,:,:,:])[0]\n",
    "x[8] = doen[np.argmax(predi)]\n",
    "\n",
    "for i in range(7):\n",
    "    x[i+1] = predi[i]\n",
    "\n",
    "target.append(x)"
   ]
  },
  {
   "cell_type": "code",
   "execution_count": 38,
   "id": "amended-champion",
   "metadata": {},
   "outputs": [
    {
     "data": {
      "text/plain": [
       "[]"
      ]
     },
     "execution_count": 38,
     "metadata": {},
     "output_type": "execute_result"
    }
   ],
   "source": [
    "dados.loc[dados['image_id'] == arquivo[:-4]].values.tolist()"
   ]
  },
  {
   "cell_type": "code",
   "execution_count": 39,
   "id": "billion-sending",
   "metadata": {},
   "outputs": [
    {
     "name": "stdout",
     "output_type": "stream",
     "text": [
      "['image_id', 'akiec', 'bcc', 'mel', 'nv', 'bkl', 'df', 'vasc', 'previsão']\n"
     ]
    }
   ],
   "source": [
    "label = ['image_id'] + doen + ['previsão']\n",
    "\n",
    "print(label)"
   ]
  },
  {
   "cell_type": "code",
   "execution_count": 40,
   "id": "hidden-ireland",
   "metadata": {},
   "outputs": [],
   "source": [
    "dt = pd.DataFrame(target, columns = label)\n",
    "dt.to_excel('C:/Users/alex_/Desktop/previsoes.xlsx')"
   ]
  },
  {
   "cell_type": "code",
   "execution_count": null,
   "id": "boolean-intervention",
   "metadata": {},
   "outputs": [],
   "source": []
  }
 ],
 "metadata": {
  "kernelspec": {
   "display_name": "Python 3",
   "language": "python",
   "name": "python3"
  },
  "language_info": {
   "codemirror_mode": {
    "name": "ipython",
    "version": 3
   },
   "file_extension": ".py",
   "mimetype": "text/x-python",
   "name": "python",
   "nbconvert_exporter": "python",
   "pygments_lexer": "ipython3",
   "version": "3.8.8"
  }
 },
 "nbformat": 4,
 "nbformat_minor": 5
}
