{
 "cells": [
  {
   "cell_type": "code",
   "execution_count": null,
   "id": "reported-control",
   "metadata": {},
   "outputs": [],
   "source": [
    "import numpy as np\n",
    "import matplotlib.pyplot as plt\n",
    "from PIL import Image \n",
    "import os\n",
    "import glob\n",
    "import pickle\n",
    "import pandas as pd\n",
    "import csv\n",
    "from os import listdir, mkdir\n",
    "from numpy import random as rd"
   ]
  },
  {
   "cell_type": "code",
   "execution_count": null,
   "id": "incorrect-pickup",
   "metadata": {},
   "outputs": [],
   "source": [
    "for i in range(8):\n",
    "    x[0] = ('AUG_' + str(i) + '_' + j)\n",
    "    path1 = 'D:/cancer de pele/data_pickle/' + x[0] + '.pckl'\n",
    "    f = open(path1, 'wb')\n",
    "    pickle.dump(Aug[i,:,:,:], f)\n",
    "    f.close()\n"
   ]
  },
  {
   "cell_type": "code",
   "execution_count": null,
   "id": "supposed-marine",
   "metadata": {},
   "outputs": [],
   "source": [
    "plt.imshow(X[1])\n",
    "print(Y[10])"
   ]
  },
  {
   "cell_type": "code",
   "execution_count": null,
   "id": "composite-extraction",
   "metadata": {},
   "outputs": [],
   "source": []
  }
 ],
 "metadata": {
  "kernelspec": {
   "display_name": "Python 3",
   "language": "python",
   "name": "python3"
  },
  "language_info": {
   "codemirror_mode": {
    "name": "ipython",
    "version": 3
   },
   "file_extension": ".py",
   "mimetype": "text/x-python",
   "name": "python",
   "nbconvert_exporter": "python",
   "pygments_lexer": "ipython3",
   "version": "3.8.8"
  }
 },
 "nbformat": 4,
 "nbformat_minor": 5
}
