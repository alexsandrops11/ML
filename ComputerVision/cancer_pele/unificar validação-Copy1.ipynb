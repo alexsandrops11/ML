{
 "cells": [
  {
   "cell_type": "code",
   "execution_count": 1,
   "id": "dirty-feelings",
   "metadata": {},
   "outputs": [],
   "source": [
    "import glob\n",
    "import pandas as pd\n",
    "import numpy as np\n",
    "import matplotlib.pyplot as plt\n",
    "import os\n",
    "import csv"
   ]
  },
  {
   "cell_type": "code",
   "execution_count": 9,
   "id": "anonymous-durham",
   "metadata": {},
   "outputs": [
    {
     "name": "stdout",
     "output_type": "stream",
     "text": [
      "21\n",
      "22\n",
      "23\n",
      "24\n"
     ]
    }
   ],
   "source": [
    "df = pd.DataFrame() \n",
    "for i in range(21,25):\n",
    "    data = pd.read_csv ('E:/cancer de pele/results/' + str(i) + '/cancer-acc' + str(i) + '.csv')\n",
    "    vetor = data.iloc[:,5]\n",
    "    df = pd.concat([df,vetor],axis=1)\n",
    "    print(i)\n",
    "    "
   ]
  },
  {
   "cell_type": "code",
   "execution_count": 12,
   "id": "equivalent-anniversary",
   "metadata": {},
   "outputs": [
    {
     "data": {
      "text/html": [
       "<div>\n",
       "<style scoped>\n",
       "    .dataframe tbody tr th:only-of-type {\n",
       "        vertical-align: middle;\n",
       "    }\n",
       "\n",
       "    .dataframe tbody tr th {\n",
       "        vertical-align: top;\n",
       "    }\n",
       "\n",
       "    .dataframe thead th {\n",
       "        text-align: right;\n",
       "    }\n",
       "</style>\n",
       "<table border=\"1\" class=\"dataframe\">\n",
       "  <thead>\n",
       "    <tr style=\"text-align: right;\">\n",
       "      <th></th>\n",
       "      <th>4</th>\n",
       "      <th>4</th>\n",
       "      <th>4</th>\n",
       "      <th>4</th>\n",
       "    </tr>\n",
       "  </thead>\n",
       "  <tbody>\n",
       "    <tr>\n",
       "      <th>0</th>\n",
       "      <td>0.845488</td>\n",
       "      <td>0.861557</td>\n",
       "      <td>0.846724</td>\n",
       "      <td>0.862794</td>\n",
       "    </tr>\n",
       "    <tr>\n",
       "      <th>1</th>\n",
       "      <td>0.861557</td>\n",
       "      <td>0.881335</td>\n",
       "      <td>0.867738</td>\n",
       "      <td>0.860321</td>\n",
       "    </tr>\n",
       "    <tr>\n",
       "      <th>2</th>\n",
       "      <td>0.877627</td>\n",
       "      <td>0.899876</td>\n",
       "      <td>0.881335</td>\n",
       "      <td>0.886279</td>\n",
       "    </tr>\n",
       "    <tr>\n",
       "      <th>3</th>\n",
       "      <td>0.891224</td>\n",
       "      <td>0.904821</td>\n",
       "      <td>0.877627</td>\n",
       "      <td>0.909765</td>\n",
       "    </tr>\n",
       "    <tr>\n",
       "      <th>4</th>\n",
       "      <td>0.889988</td>\n",
       "      <td>0.902349</td>\n",
       "      <td>0.907293</td>\n",
       "      <td>0.894932</td>\n",
       "    </tr>\n",
       "    <tr>\n",
       "      <th>...</th>\n",
       "      <td>...</td>\n",
       "      <td>...</td>\n",
       "      <td>...</td>\n",
       "      <td>...</td>\n",
       "    </tr>\n",
       "    <tr>\n",
       "      <th>72</th>\n",
       "      <td>0.868974</td>\n",
       "      <td>0.841780</td>\n",
       "      <td>0.856613</td>\n",
       "      <td>0.861557</td>\n",
       "    </tr>\n",
       "    <tr>\n",
       "      <th>73</th>\n",
       "      <td>0.875154</td>\n",
       "      <td>0.841780</td>\n",
       "      <td>0.860321</td>\n",
       "      <td>0.867738</td>\n",
       "    </tr>\n",
       "    <tr>\n",
       "      <th>74</th>\n",
       "      <td>0.881335</td>\n",
       "      <td>0.836836</td>\n",
       "      <td>0.881335</td>\n",
       "      <td>0.883807</td>\n",
       "    </tr>\n",
       "    <tr>\n",
       "      <th>75</th>\n",
       "      <td>0.888752</td>\n",
       "      <td>0.856613</td>\n",
       "      <td>0.872682</td>\n",
       "      <td>0.878863</td>\n",
       "    </tr>\n",
       "    <tr>\n",
       "      <th>76</th>\n",
       "      <td>0.912237</td>\n",
       "      <td>0.859085</td>\n",
       "      <td>0.889988</td>\n",
       "      <td>0.904821</td>\n",
       "    </tr>\n",
       "  </tbody>\n",
       "</table>\n",
       "<p>77 rows × 4 columns</p>\n",
       "</div>"
      ],
      "text/plain": [
       "           4         4         4         4\n",
       "0   0.845488  0.861557  0.846724  0.862794\n",
       "1   0.861557  0.881335  0.867738  0.860321\n",
       "2   0.877627  0.899876  0.881335  0.886279\n",
       "3   0.891224  0.904821  0.877627  0.909765\n",
       "4   0.889988  0.902349  0.907293  0.894932\n",
       "..       ...       ...       ...       ...\n",
       "72  0.868974  0.841780  0.856613  0.861557\n",
       "73  0.875154  0.841780  0.860321  0.867738\n",
       "74  0.881335  0.836836  0.881335  0.883807\n",
       "75  0.888752  0.856613  0.872682  0.878863\n",
       "76  0.912237  0.859085  0.889988  0.904821\n",
       "\n",
       "[77 rows x 4 columns]"
      ]
     },
     "execution_count": 12,
     "metadata": {},
     "output_type": "execute_result"
    }
   ],
   "source": [
    "df.head(100)"
   ]
  },
  {
   "cell_type": "code",
   "execution_count": 13,
   "id": "personalized-hurricane",
   "metadata": {},
   "outputs": [],
   "source": [
    "df.to_excel('C:/Users/alex_/Desktop/train-acc.xlsx')"
   ]
  },
  {
   "cell_type": "code",
   "execution_count": null,
   "id": "analyzed-equipment",
   "metadata": {},
   "outputs": [],
   "source": []
  }
 ],
 "metadata": {
  "kernelspec": {
   "display_name": "Python 3",
   "language": "python",
   "name": "python3"
  },
  "language_info": {
   "codemirror_mode": {
    "name": "ipython",
    "version": 3
   },
   "file_extension": ".py",
   "mimetype": "text/x-python",
   "name": "python",
   "nbconvert_exporter": "python",
   "pygments_lexer": "ipython3",
   "version": "3.8.8"
  }
 },
 "nbformat": 4,
 "nbformat_minor": 5
}
