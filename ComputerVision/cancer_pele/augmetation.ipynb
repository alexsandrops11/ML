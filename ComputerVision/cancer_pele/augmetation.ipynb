{
 "cells": [
  {
   "cell_type": "code",
   "execution_count": 1,
   "id": "cultural-quest",
   "metadata": {},
   "outputs": [],
   "source": [
    "import numpy as np\n",
    "import matplotlib.pyplot as plt\n",
    "from PIL import Image \n",
    "import pydicom\n",
    "import os\n",
    "import glob\n",
    "import pickle\n",
    "import pandas as pd\n",
    "import csv\n",
    "from pathlib import Path\n",
    "from IPython.display import HTML\n",
    "from os import listdir, mkdir\n",
    "import imageio\n",
    "from IPython import display\n",
    "from sklearn.metrics import roc_auc_score, roc_curve, auc\n",
    "import scipy\n",
    "\n",
    "import tensorflow as tf\n",
    "from keras.models import load_model\n",
    "from keras import layers \n",
    "from keras.layers import Concatenate,Input, Dense, Activation, ZeroPadding2D, \\\n",
    "BatchNormalization, Flatten, Conv2D \n",
    "from keras.layers import AveragePooling2D, MaxPooling2D, Dropout, GlobalMaxPooling2D, \\\n",
    "GlobalAveragePooling2D \n",
    "from keras.models import Model, Sequential \n",
    "from keras.preprocessing import image \n",
    "from keras.utils import layer_utils \n",
    "from keras.utils.data_utils import get_file \n",
    "from keras.applications.imagenet_utils import preprocess_input \n",
    "from sklearn.metrics import roc_auc_score, roc_curve, auc\n",
    "from numpy import random as rd\n",
    "import winsound"
   ]
  },
  {
   "cell_type": "code",
   "execution_count": 2,
   "id": "qualified-cursor",
   "metadata": {},
   "outputs": [],
   "source": [
    "def augmentation(img):\n",
    "   \n",
    "   data_augmentation = tf.keras.Sequential([\n",
    "     layers.experimental.preprocessing.RandomRotation(0.15)]) \n",
    "    \n",
    "   imgA = np.zeros((9,250,250,3)) \n",
    "   mean = 0\n",
    "   var = .005\n",
    "   sigma = var ** 0.5\n",
    "   gaussian = np.random.normal(mean, sigma, (250, 250,3)) \n",
    "   image = tf.expand_dims(img, 0)\n",
    "   imgA[0,:,:,:] = tf.image.flip_left_right(img) \n",
    "   imgA[1,:,:,:] = augmented_image = data_augmentation(image)\n",
    "   imgA[2,:,:,:] = augmented_image = data_augmentation(image)\n",
    "   img2          = img + gaussian\n",
    "   imgA[3,:,:,:] = img2\n",
    "   image2 = tf.expand_dims(img2, 0)\n",
    "   imgA[4,:,:,:] = tf.image.flip_left_right(img2) \n",
    "   imgA[5,:,:,:] = augmented_image = data_augmentation(image2)\n",
    "   imgA[6,:,:,:] = augmented_image = data_augmentation(image2)\n",
    "   imgA[7,:,:,:] = img - gaussian\n",
    "   return imgA"
   ]
  },
  {
   "cell_type": "code",
   "execution_count": 3,
   "id": "textile-tradition",
   "metadata": {},
   "outputs": [
    {
     "name": "stdout",
     "output_type": "stream",
     "text": [
      "ISIC_0024306\n"
     ]
    }
   ],
   "source": [
    "path = 'D:/cancer de pele/data_jpg/'\n",
    "lista_de_arquivos = glob.glob(path+'*.jpg')\n",
    "print(lista_de_arquivos[0][27:-4])"
   ]
  },
  {
   "cell_type": "code",
   "execution_count": 4,
   "id": "infinite-luxembourg",
   "metadata": {},
   "outputs": [
    {
     "data": {
      "text/html": [
       "<div>\n",
       "<style scoped>\n",
       "    .dataframe tbody tr th:only-of-type {\n",
       "        vertical-align: middle;\n",
       "    }\n",
       "\n",
       "    .dataframe tbody tr th {\n",
       "        vertical-align: top;\n",
       "    }\n",
       "\n",
       "    .dataframe thead th {\n",
       "        text-align: right;\n",
       "    }\n",
       "</style>\n",
       "<table border=\"1\" class=\"dataframe\">\n",
       "  <thead>\n",
       "    <tr style=\"text-align: right;\">\n",
       "      <th></th>\n",
       "      <th>lesion_id</th>\n",
       "      <th>image_id</th>\n",
       "      <th>dx</th>\n",
       "      <th>dx_type</th>\n",
       "      <th>age</th>\n",
       "      <th>sex</th>\n",
       "      <th>localization</th>\n",
       "    </tr>\n",
       "  </thead>\n",
       "  <tbody>\n",
       "    <tr>\n",
       "      <th>0</th>\n",
       "      <td>HAM_0000118</td>\n",
       "      <td>ISIC_0027419</td>\n",
       "      <td>bkl</td>\n",
       "      <td>histo</td>\n",
       "      <td>80.0</td>\n",
       "      <td>male</td>\n",
       "      <td>scalp</td>\n",
       "    </tr>\n",
       "    <tr>\n",
       "      <th>1</th>\n",
       "      <td>HAM_0000118</td>\n",
       "      <td>ISIC_0025030</td>\n",
       "      <td>bkl</td>\n",
       "      <td>histo</td>\n",
       "      <td>80.0</td>\n",
       "      <td>male</td>\n",
       "      <td>scalp</td>\n",
       "    </tr>\n",
       "    <tr>\n",
       "      <th>2</th>\n",
       "      <td>HAM_0002730</td>\n",
       "      <td>ISIC_0026769</td>\n",
       "      <td>bkl</td>\n",
       "      <td>histo</td>\n",
       "      <td>80.0</td>\n",
       "      <td>male</td>\n",
       "      <td>scalp</td>\n",
       "    </tr>\n",
       "    <tr>\n",
       "      <th>3</th>\n",
       "      <td>HAM_0002730</td>\n",
       "      <td>ISIC_0025661</td>\n",
       "      <td>bkl</td>\n",
       "      <td>histo</td>\n",
       "      <td>80.0</td>\n",
       "      <td>male</td>\n",
       "      <td>scalp</td>\n",
       "    </tr>\n",
       "    <tr>\n",
       "      <th>4</th>\n",
       "      <td>HAM_0001466</td>\n",
       "      <td>ISIC_0031633</td>\n",
       "      <td>bkl</td>\n",
       "      <td>histo</td>\n",
       "      <td>75.0</td>\n",
       "      <td>male</td>\n",
       "      <td>ear</td>\n",
       "    </tr>\n",
       "  </tbody>\n",
       "</table>\n",
       "</div>"
      ],
      "text/plain": [
       "     lesion_id      image_id   dx dx_type   age   sex localization\n",
       "0  HAM_0000118  ISIC_0027419  bkl   histo  80.0  male        scalp\n",
       "1  HAM_0000118  ISIC_0025030  bkl   histo  80.0  male        scalp\n",
       "2  HAM_0002730  ISIC_0026769  bkl   histo  80.0  male        scalp\n",
       "3  HAM_0002730  ISIC_0025661  bkl   histo  80.0  male        scalp\n",
       "4  HAM_0001466  ISIC_0031633  bkl   histo  75.0  male          ear"
      ]
     },
     "execution_count": 4,
     "metadata": {},
     "output_type": "execute_result"
    }
   ],
   "source": [
    "dados = pd.read_csv('D:\\cancer de pele\\HAM10000_metadata.csv')\n",
    "dados.head()\n",
    "\n"
   ]
  },
  {
   "cell_type": "code",
   "execution_count": 5,
   "id": "endangered-taylor",
   "metadata": {},
   "outputs": [],
   "source": [
    "doen = ['akiec' , 'bcc' , 'mel' , 'nv' , 'bkl','df', 'vasc']\n",
    "improve = ['df', 'vasc']\n"
   ]
  },
  {
   "cell_type": "code",
   "execution_count": 6,
   "id": "hindu-quarter",
   "metadata": {},
   "outputs": [
    {
     "name": "stdout",
     "output_type": "stream",
     "text": [
      "akiec\n",
      "bcc\n",
      "df\n",
      "vasc\n"
     ]
    }
   ],
   "source": [
    "target = []\n",
    "pt = 'C:/Users/alex_/Desktop/'\n",
    "\n",
    "for h in improve:\n",
    "    \n",
    "    indice = doen.index(h)\n",
    "    x = [0]*8\n",
    "    x[indice + 1] = 1\n",
    "    \n",
    "    nomes_ag = dados.loc[(dados[\"dx\"] == h)]['image_id'].values.tolist()\n",
    "    \n",
    "    for j in nomes_ag:\n",
    "        i = 0\n",
    "        img = Image.open(os.path.join(path, j + '.jpg'))\n",
    "        Aug = augmentation(np.array(img.resize((250,250))))\n",
    "        Aug = Aug.astype(int)\n",
    "        \n",
    "        \n",
    "        for i in range(8):\n",
    "            x[0] = ('AUG_' + str(i) + '_' + j)\n",
    "            path1 = 'D:/cancer de pele/data_pickle/' + x[0] + '.pckl'\n",
    "            f = open(path1, 'wb')\n",
    "            pickle.dump(Aug[i,:,:,:], f)\n",
    "            f.close()\n",
    "            \n",
    "            os.chdir(pt)\n",
    "            with open('cancer-targetsTESTE.csv','a',newline='') as file:\n",
    "                writer = csv.writer(file)\n",
    "                writer.writerow(x)\n",
    "    print(h)\n",
    "\n",
    "frequency = 2500  # Set Frequency To 2500 Hertz\n",
    "duration = 1000  # Set Duration To 1000 ms == 1 second\n",
    "winsound.Beep(frequency, duration)"
   ]
  }
 ],
 "metadata": {
  "kernelspec": {
   "display_name": "Python 3",
   "language": "python",
   "name": "python3"
  },
  "language_info": {
   "codemirror_mode": {
    "name": "ipython",
    "version": 3
   },
   "file_extension": ".py",
   "mimetype": "text/x-python",
   "name": "python",
   "nbconvert_exporter": "python",
   "pygments_lexer": "ipython3",
   "version": "3.8.8"
  }
 },
 "nbformat": 4,
 "nbformat_minor": 5
}
