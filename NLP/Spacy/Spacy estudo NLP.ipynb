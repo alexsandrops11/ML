{
 "cells": [
  {
   "cell_type": "code",
   "execution_count": 2,
   "id": "dc00f4f2",
   "metadata": {},
   "outputs": [],
   "source": [
    "import spacy"
   ]
  },
  {
   "cell_type": "code",
   "execution_count": 3,
   "id": "90725d0f",
   "metadata": {},
   "outputs": [],
   "source": [
    "#!python -m pip install C:/Users/alexsandrosilva/Downloads/pt_core_news_sm-3.1.0.tar.gz"
   ]
  },
  {
   "cell_type": "code",
   "execution_count": 4,
   "id": "e385030d",
   "metadata": {},
   "outputs": [],
   "source": [
    "nlp = spacy.load('pt_core_news_sm')\n",
    "texto = nlp('Olá Mundo. Clássica frase no mundo da computação')"
   ]
  },
  {
   "cell_type": "code",
   "execution_count": 5,
   "id": "782431ec",
   "metadata": {},
   "outputs": [
    {
     "data": {
      "text/plain": [
       "spacy.tokens.doc.Doc"
      ]
     },
     "execution_count": 5,
     "metadata": {},
     "output_type": "execute_result"
    }
   ],
   "source": [
    "type(texto)"
   ]
  },
  {
   "cell_type": "markdown",
   "id": "095c3fe4",
   "metadata": {},
   "source": [
    "A propriedades **.idx** retorna o índice de inicio do token (palavra).\n",
    "\n",
    "A propriedade **.shape_** mostra o formato da palavra, se esta começa com letra maiúscula tem uma forma diferente, por exemplo.\n",
    "\n",
    "Já a propriedade **.tag_** mostra informações gramáticais como ‘PROP’ que significa ‘Proper noun’, ou seja, substantivo próprio"
   ]
  },
  {
   "cell_type": "code",
   "execution_count": 6,
   "id": "e7cb9dd9",
   "metadata": {},
   "outputs": [
    {
     "name": "stdout",
     "output_type": "stream",
     "text": [
      "Olá 0 Xxx PROPN\n",
      "Mundo 4 Xxxxx PROPN\n",
      ". 9 . PUNCT\n",
      "Clássica 11 Xxxxx ADJ\n",
      "frase 20 xxxx NOUN\n",
      "no 26 xx ADP\n",
      "mundo 29 xxxx NOUN\n",
      "da 35 xx ADP\n",
      "computação 38 xxxx NOUN\n"
     ]
    }
   ],
   "source": [
    "for token in  texto:\n",
    "    print(token, token.idx, token.shape_,token.tag_)"
   ]
  },
  {
   "cell_type": "markdown",
   "id": "0e915de4",
   "metadata": {},
   "source": [
    "# **NER - Named Entity Recognition**"
   ]
  },
  {
   "cell_type": "markdown",
   "id": "6f78b35c",
   "metadata": {},
   "source": [
    "VERIFIRCAR COMO O MODELO PRÉ PRONTO ATUA"
   ]
  },
  {
   "cell_type": "code",
   "execution_count": 8,
   "id": "e0edc239",
   "metadata": {},
   "outputs": [
    {
     "name": "stdout",
     "output_type": "stream",
     "text": [
      "Roma LOC\n"
     ]
    }
   ],
   "source": [
    "#Degine a sentença\n",
    "texto = nlp('O rato roeu a roupa do rei de Roma')\n",
    "\n",
    "# Intera sobre as entidades identificadas\n",
    "for entidade in texto.ents:\n",
    "    print(entidade.text, entidade.label_)"
   ]
  },
  {
   "cell_type": "markdown",
   "id": "821b3de4",
   "metadata": {},
   "source": [
    "O tipo **LOC** significa Localizações"
   ]
  },
  {
   "cell_type": "code",
   "execution_count": 9,
   "id": "fdafade5",
   "metadata": {},
   "outputs": [],
   "source": [
    "texto = nlp('Maria está se mudando para Paris. No dia 01/02/2019 ela irá partir.')"
   ]
  },
  {
   "cell_type": "code",
   "execution_count": 10,
   "id": "6f4656fc",
   "metadata": {},
   "outputs": [],
   "source": [
    "from spacy import displacy"
   ]
  },
  {
   "cell_type": "code",
   "execution_count": 11,
   "id": "6585977b",
   "metadata": {},
   "outputs": [
    {
     "data": {
      "text/html": [
       "<span class=\"tex2jax_ignore\"><div class=\"entities\" style=\"line-height: 2.5; direction: ltr\">\n",
       "<mark class=\"entity\" style=\"background: #ddd; padding: 0.45em 0.6em; margin: 0 0.25em; line-height: 1; border-radius: 0.35em;\">\n",
       "    Maria\n",
       "    <span style=\"font-size: 0.8em; font-weight: bold; line-height: 1; border-radius: 0.35em; vertical-align: middle; margin-left: 0.5rem\">PER</span>\n",
       "</mark>\n",
       " está se mudando para \n",
       "<mark class=\"entity\" style=\"background: #ff9561; padding: 0.45em 0.6em; margin: 0 0.25em; line-height: 1; border-radius: 0.35em;\">\n",
       "    Paris\n",
       "    <span style=\"font-size: 0.8em; font-weight: bold; line-height: 1; border-radius: 0.35em; vertical-align: middle; margin-left: 0.5rem\">LOC</span>\n",
       "</mark>\n",
       ". No dia 01/02/2019 ela irá partir.</div></span>"
      ],
      "text/plain": [
       "<IPython.core.display.HTML object>"
      ]
     },
     "metadata": {},
     "output_type": "display_data"
    }
   ],
   "source": [
    "displacy.render(texto, style='ent',jupyter=True)"
   ]
  },
  {
   "cell_type": "markdown",
   "id": "6c30781e",
   "metadata": {},
   "source": [
    "A entidade PER significa uma entidade de nome pessoal, ou seja, esta identificou ‘Maria’ como um pessoa. Veja"
   ]
  },
  {
   "cell_type": "code",
   "execution_count": 12,
   "id": "25631364",
   "metadata": {},
   "outputs": [
    {
     "data": {
      "text/plain": [
       "'Named person or family.'"
      ]
     },
     "execution_count": 12,
     "metadata": {},
     "output_type": "execute_result"
    }
   ],
   "source": [
    "spacy.explain('PER')"
   ]
  },
  {
   "cell_type": "markdown",
   "id": "ce5d83cb",
   "metadata": {},
   "source": [
    "### TESTES"
   ]
  },
  {
   "cell_type": "code",
   "execution_count": 13,
   "id": "555d946c",
   "metadata": {},
   "outputs": [
    {
     "data": {
      "text/html": [
       "<span class=\"tex2jax_ignore\"><div class=\"entities\" style=\"line-height: 2.5; direction: ltr\">\n",
       "<mark class=\"entity\" style=\"background: #ddd; padding: 0.45em 0.6em; margin: 0 0.25em; line-height: 1; border-radius: 0.35em;\">\n",
       "    Data de Nascimento\n",
       "    <span style=\"font-size: 0.8em; font-weight: bold; line-height: 1; border-radius: 0.35em; vertical-align: middle; margin-left: 0.5rem\">MISC</span>\n",
       "</mark>\n",
       ": 28/01/1975</div></span>"
      ],
      "text/plain": [
       "<IPython.core.display.HTML object>"
      ]
     },
     "metadata": {},
     "output_type": "display_data"
    }
   ],
   "source": [
    "texto = nlp('Data de Nascimento: 28/01/1975')\n",
    "displacy.render(texto, style='ent', jupyter=True)"
   ]
  },
  {
   "cell_type": "code",
   "execution_count": 14,
   "id": "2fa7aeb4",
   "metadata": {},
   "outputs": [
    {
     "data": {
      "text/html": [
       "<span class=\"tex2jax_ignore\"><div class=\"entities\" style=\"line-height: 2.5; direction: ltr\">No dia 28/01/2010 a \n",
       "<mark class=\"entity\" style=\"background: #ddd; padding: 0.45em 0.6em; margin: 0 0.25em; line-height: 1; border-radius: 0.35em;\">\n",
       "    Joana\n",
       "    <span style=\"font-size: 0.8em; font-weight: bold; line-height: 1; border-radius: 0.35em; vertical-align: middle; margin-left: 0.5rem\">PER</span>\n",
       "</mark>\n",
       " foi aprovada no vestibular.</div></span>"
      ],
      "text/plain": [
       "<IPython.core.display.HTML object>"
      ]
     },
     "metadata": {},
     "output_type": "display_data"
    }
   ],
   "source": [
    "texto = nlp('No dia 28/01/2010 a Joana foi aprovada no vestibular.')\n",
    "displacy.render(texto, style='ent', jupyter=True)"
   ]
  },
  {
   "cell_type": "markdown",
   "id": "99025a6d",
   "metadata": {},
   "source": [
    "# Treinando um Modelo"
   ]
  },
  {
   "cell_type": "code",
   "execution_count": 15,
   "id": "26d1e0ff",
   "metadata": {},
   "outputs": [
    {
     "name": "stderr",
     "output_type": "stream",
     "text": [
      "<>:2: SyntaxWarning: 'tuple' object is not callable; perhaps you missed a comma?\n",
      "<>:2: SyntaxWarning: 'tuple' object is not callable; perhaps you missed a comma?\n",
      "<ipython-input-15-30dbaee98de6>:2: SyntaxWarning: 'tuple' object is not callable; perhaps you missed a comma?\n",
      "  (\"Almira é uma ótima pessoa, gosto muito dela\", {'entities':[(0, 6, \"PER\")]})\n"
     ]
    },
    {
     "ename": "TypeError",
     "evalue": "'tuple' object is not callable",
     "output_type": "error",
     "traceback": [
      "\u001b[1;31m---------------------------------------------------------------------------\u001b[0m",
      "\u001b[1;31mTypeError\u001b[0m                                 Traceback (most recent call last)",
      "\u001b[1;32m<ipython-input-15-30dbaee98de6>\u001b[0m in \u001b[0;36m<module>\u001b[1;34m\u001b[0m\n\u001b[0;32m      1\u001b[0m TRAIN_DATA = [\n\u001b[1;32m----> 2\u001b[1;33m     \u001b[1;33m(\u001b[0m\u001b[1;34m\"Almira é uma ótima pessoa, gosto muito dela\"\u001b[0m\u001b[1;33m,\u001b[0m \u001b[1;33m{\u001b[0m\u001b[1;34m'entities'\u001b[0m\u001b[1;33m:\u001b[0m\u001b[1;33m[\u001b[0m\u001b[1;33m(\u001b[0m\u001b[1;36m0\u001b[0m\u001b[1;33m,\u001b[0m \u001b[1;36m6\u001b[0m\u001b[1;33m,\u001b[0m \u001b[1;34m\"PER\"\u001b[0m\u001b[1;33m)\u001b[0m\u001b[1;33m]\u001b[0m\u001b[1;33m}\u001b[0m\u001b[1;33m)\u001b[0m\u001b[1;33m\u001b[0m\u001b[1;33m\u001b[0m\u001b[0m\n\u001b[0m\u001b[0;32m      3\u001b[0m     \u001b[1;33m(\u001b[0m\u001b[1;34m\"João foi para Bahia nas férias\"\u001b[0m\u001b[1;33m,\u001b[0m \u001b[1;33m{\u001b[0m\u001b[1;34m'entities'\u001b[0m\u001b[1;33m:\u001b[0m\u001b[1;33m[\u001b[0m\u001b[1;33m(\u001b[0m\u001b[1;36m14\u001b[0m\u001b[1;33m,\u001b[0m \u001b[1;36m19\u001b[0m\u001b[1;33m,\u001b[0m \u001b[1;34m\"LOC\"\u001b[0m\u001b[1;33m)\u001b[0m\u001b[1;33m,\u001b[0m\u001b[1;33m(\u001b[0m\u001b[1;36m0\u001b[0m\u001b[1;33m,\u001b[0m \u001b[1;36m4\u001b[0m\u001b[1;33m,\u001b[0m \u001b[1;34m\"PER\"\u001b[0m\u001b[1;33m)\u001b[0m\u001b[1;33m]\u001b[0m\u001b[1;33m}\u001b[0m\u001b[1;33m)\u001b[0m\u001b[1;33m\u001b[0m\u001b[1;33m\u001b[0m\u001b[0m\n\u001b[0;32m      4\u001b[0m     \u001b[1;33m(\u001b[0m\u001b[1;34m\"Fulano foi visitar João na casa de praia\"\u001b[0m\u001b[1;33m,\u001b[0m\u001b[1;33m{\u001b[0m\u001b[1;34m'entities'\u001b[0m\u001b[1;33m:\u001b[0m\u001b[1;33m[\u001b[0m\u001b[1;33m(\u001b[0m\u001b[1;36m19\u001b[0m\u001b[1;33m,\u001b[0m \u001b[1;36m23\u001b[0m\u001b[1;33m,\u001b[0m \u001b[1;34m\"LOC\"\u001b[0m\u001b[1;33m)\u001b[0m\u001b[1;33m]\u001b[0m\u001b[1;33m}\u001b[0m\u001b[1;33m)\u001b[0m\u001b[1;33m\u001b[0m\u001b[1;33m\u001b[0m\u001b[0m\n\u001b[0;32m      5\u001b[0m     \u001b[1;33m(\u001b[0m\u001b[1;34m\"No meio do ano irei para São Paulo fazer mais um curso\"\u001b[0m\u001b[1;33m,\u001b[0m\u001b[1;33m{\u001b[0m\u001b[1;34m'entities'\u001b[0m\u001b[1;33m:\u001b[0m\u001b[1;33m[\u001b[0m\u001b[1;33m(\u001b[0m\u001b[1;36m25\u001b[0m\u001b[1;33m,\u001b[0m \u001b[1;36m34\u001b[0m\u001b[1;33m,\u001b[0m \u001b[1;34m\"LOC\"\u001b[0m\u001b[1;33m)\u001b[0m\u001b[1;33m]\u001b[0m\u001b[1;33m}\u001b[0m\u001b[1;33m)\u001b[0m\u001b[1;33m\u001b[0m\u001b[1;33m\u001b[0m\u001b[0m\n",
      "\u001b[1;31mTypeError\u001b[0m: 'tuple' object is not callable"
     ]
    }
   ],
   "source": [
    "TRAIN_DATA = [\n",
    "    (\"Almira é uma ótima pessoa, gosto muito dela\", {'entities':[(0, 6, \"PER\")]})\n",
    "    (\"João foi para Bahia nas férias\", {'entities':[(14, 19, \"LOC\"),(0, 4, \"PER\")]})\n",
    "    (\"Fulano foi visitar João na casa de praia\",{'entities':[(19, 23, \"LOC\")]})\n",
    "    (\"No meio do ano irei para São Paulo fazer mais um curso\",{'entities':[(25, 34, \"LOC\")]})\n",
    "    (\"O sonho dela era ir para a Austrália visitar seu irmão\",{'entities':[(25, 34, \"LOC\")]})\n",
    "    (\"Em 15/07/1988 nasceu essa linda criança\",{'entities':[(3, 13, \"DATE\")]})\n",
    "    (\"Data de Prisão: 10/01/2018\",{'entities':[(16, 26, \"DATE\")]})\n",
    "    (\"No dia 01/02/2016 foi decretado a sentença\",{'entities':[(7, 17, \"DATE\")]})\n",
    "    (\"A data da festa foi 07/05/2018\",{'entities':[(20, 30, \"DATE\")]})\n",
    "]"
   ]
  },
  {
   "cell_type": "markdown",
   "id": "8884252a",
   "metadata": {},
   "source": [
    "Repare que final temos a posição da string que contém a data, por exemplo, 0,  10, “DATE” siginifica que na frase da posição 0 até a posição 10 é uma entidade do tipo Date(Data).\n",
    "\n",
    "As posições são importantes, pois, as palavras tem funções gramaticais diferentes conforme a localização, logo é necessário informar a posição da palavra na frase."
   ]
  },
  {
   "cell_type": "markdown",
   "id": "9d1f49e4",
   "metadata": {},
   "source": [
    "Vido que explica como faz o treinamento\n",
    "https://www.youtube.com/watch?v=7Z1imsp6g10"
   ]
  },
  {
   "cell_type": "code",
   "execution_count": 17,
   "id": "6503333a",
   "metadata": {},
   "outputs": [],
   "source": [
    "def train_spacy(data, iterations):\n",
    "    TRAIN_DATA = data\n",
    "    nlp = spacy.blank(\"pt_core_news_sm\") #fazer um blankfresh model \"en_core_news_sm\" (inglês) ou \"pt_core_news_sm\" (português)\n",
    "    if \"ner\" not in nlp.pipe_names: #se modelo não está no pipeline temos que crirar\n",
    "        ner = nlp.create_pipe(\"ner\") #criar um NER pipeline\n",
    "        nlp.add_pipe(ner, last=True) #adicionar para o pipeline\n",
    "    for _, annotations in TRAIN_DATA:\n",
    "        for ent in annotations.get(\"entities\"):\n",
    "            ner.add_label(ent[2]) #capitar cada label de cada linha, ou seja, o terceiro elemento do LABEL Ex: o \"PER\" em [(0, 6, \"PER\")]\n",
    "    other_pipes = [pipe for pipe in nlp.pipe_names if pipe != \"ner\"] #se retornar erro\n",
    "    with nlp.disable_pipes(*other_pipes):\n",
    "        optimizer = nlp.begin_training() #iniciar o treino\n",
    "        for itn in range(iterations):\n",
    "            print (\"Starting iteration \" + str(itn))\n",
    "            random.shuffle(TRAIN_DATA) #randomizando o training data\n",
    "            losses = {}\n",
    "            for text, annotations in TRAIN_DATA:\n",
    "                nlp.update(\n",
    "                            [text],\n",
    "                            [annotations],\n",
    "                            drop=0.2,\n",
    "                            sgd=optimizer,\n",
    "                            losses=losses\n",
    "                ) #drop para prevenir overfiting\n",
    "            print (losses)\n",
    "    return (nlp)\n",
    "# TRAIN_DATA = load_data(\"data/hp_training_data.json\")\n",
    "# nlp = train_spacy(TRAIN_DATA, 30)\n",
    "# nlp.to_disk(\"hp_ner_model\")"
   ]
  },
  {
   "cell_type": "markdown",
   "id": "35354d15",
   "metadata": {},
   "source": [
    "FUNÇÃO PARA LIMPAR [] () E \\ DO TEXTO"
   ]
  },
  {
   "cell_type": "code",
   "execution_count": 16,
   "id": "aca49986",
   "metadata": {},
   "outputs": [],
   "source": [
    "def clean(text):\n",
    "    clean = re.sub(r\"[\\(\\[].*?[\\)\\]]\", \"\", text)\n",
    "    return\n"
   ]
  },
  {
   "cell_type": "markdown",
   "id": "9666015b",
   "metadata": {},
   "source": [
    "https://www.youtube.com/watch?v=7Z1imsp6g10"
   ]
  },
  {
   "cell_type": "markdown",
   "id": "c95c1879",
   "metadata": {},
   "source": [
    "explicação\n",
    "\n",
    "https://www.youtube.com/watch?v=5UXOLuji36U"
   ]
  },
  {
   "cell_type": "code",
   "execution_count": 18,
   "id": "b2629308",
   "metadata": {},
   "outputs": [],
   "source": [
    "test = nlp(\"Fica eleito o Foro da Comarca de Belo Horizonte, no Estado de Minas Gerais para dirimir toda e qualquer questão oriunda deste CONTRATO. E, por estarem assim justas e contratadas, as partes assinam o presente CONTRATO em 02 (duas) vias de igual teor e forma, para um mesmo fim, juntamente com as testemunhas no dia 11/10/1997\")\n",
    "\n",
    "NLP = spacy.load(\"pt_core_news_sm\")"
   ]
  },
  {
   "cell_type": "code",
   "execution_count": null,
   "id": "cc095cad",
   "metadata": {},
   "outputs": [],
   "source": [
    "DOC = NLP(test)\n",
    "for en in doc.ents:\n",
    "    print(ent.text, entl)"
   ]
  },
  {
   "cell_type": "markdown",
   "id": "04d8299b",
   "metadata": {},
   "source": [
    "https://www.machinelearningplus.com/nlp/training-custom-ner-model-in-spacy/"
   ]
  },
  {
   "cell_type": "code",
   "execution_count": null,
   "id": "cbcc1aed",
   "metadata": {},
   "outputs": [],
   "source": []
  }
 ],
 "metadata": {
  "kernelspec": {
   "display_name": "Python 3",
   "language": "python",
   "name": "python3"
  },
  "language_info": {
   "codemirror_mode": {
    "name": "ipython",
    "version": 3
   },
   "file_extension": ".py",
   "mimetype": "text/x-python",
   "name": "python",
   "nbconvert_exporter": "python",
   "pygments_lexer": "ipython3",
   "version": "3.8.8"
  }
 },
 "nbformat": 4,
 "nbformat_minor": 5
}
