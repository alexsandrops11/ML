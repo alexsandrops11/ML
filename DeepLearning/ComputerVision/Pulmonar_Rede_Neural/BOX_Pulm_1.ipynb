{
 "cells": [
  {
   "cell_type": "markdown",
   "metadata": {},
   "source": [
    "# Challenge Kaggle - Visual In-Depth EDA – VinBigData Competition Data\n",
    "\n",
    "    Neural network 3"
   ]
  },
  {
   "cell_type": "markdown",
   "metadata": {},
   "source": [
    "### Library"
   ]
  },
  {
   "cell_type": "code",
   "execution_count": null,
   "metadata": {},
   "outputs": [],
   "source": [
    "import numpy as np\n",
    "import matplotlib.pyplot as plt\n",
    "from PIL import Image \n",
    "import pydicom\n",
    "import os\n",
    "import glob\n",
    "import pickle\n",
    "import pandas as pd\n",
    "import csv\n",
    "import cv2\n",
    "from pathlib import Path\n",
    "from IPython.display import HTML\n",
    "from os import listdir, mkdir\n",
    "import imageio\n",
    "from IPython import display\n",
    "from sklearn.metrics import roc_auc_score, roc_curve, auc\n",
    "import scipy\n",
    "\n",
    "import tensorflow as tf\n",
    "from keras.models import load_model\n",
    "from keras import layers \n",
    "from keras.layers import Concatenate,Input, Dense, Activation, ZeroPadding2D, \\\n",
    "BatchNormalization, Flatten, Conv2D \n",
    "from keras.layers import AveragePooling2D, MaxPooling2D, Dropout, GlobalMaxPooling2D, \\\n",
    "GlobalAveragePooling2D \n",
    "from keras.models import Model, Sequential \n",
    "from keras.preprocessing import image \n",
    "from keras.utils import layer_utils \n",
    "from keras.utils.data_utils import get_file \n",
    "from keras.applications.imagenet_utils import preprocess_input \n",
    "from sklearn.metrics import roc_auc_score, roc_curve, auc"
   ]
  },
  {
   "cell_type": "markdown",
   "metadata": {},
   "source": [
    "### Load data"
   ]
  },
  {
   "cell_type": "code",
   "execution_count": null,
   "metadata": {},
   "outputs": [],
   "source": [
    "Validacao    = 'C:/Users/felipe/Documents/DataBOX/Box_Pulm_val.pckl'\n",
    "fv = open(Validacao, 'rb')\n",
    "[Xv,Yv] = pickle.load(fv)"
   ]
  },
  {
   "cell_type": "code",
   "execution_count": null,
   "metadata": {},
   "outputs": [],
   "source": [
    "plt.imshow(Xv[0,:,:,1],cmap=plt.cm.bone)\n",
    "print(Yv[0])"
   ]
  },
  {
   "cell_type": "markdown",
   "metadata": {},
   "source": [
    "### Construct the model"
   ]
  },
  {
   "cell_type": "code",
   "execution_count": null,
   "metadata": {},
   "outputs": [],
   "source": [
    "def KerasModel(input_shape):  \n",
    "    NumClass = 4\n",
    "    X_input  = Input(input_shape)\n",
    "     \n",
    "    # Zero-Padding: pads the border of X_input with zeroes\n",
    "    X = ZeroPadding2D((3, 3))(X_input)\n",
    "\n",
    "    # CONV -> BN -> RELU Block applied to X\n",
    "    X = Conv2D(40, (3, 3), strides = (1, 1), name = 'conv0')(X)    \n",
    "    X = BatchNormalization(axis = 3, name = 'bn0')(X)\n",
    "    X = Activation('relu')(X)\n",
    "\n",
    "    # MAXPOOL\n",
    "    X = MaxPooling2D((2, 2), name='max_pool')(X)\n",
    "    \n",
    "    ##\n",
    "    X = Conv2D(24, (3, 3), strides = (1, 1), name = 'conv1')(X)    \n",
    "    X = BatchNormalization(axis = 3, name = 'bn1')(X)\n",
    "    X = Activation('relu')(X)\n",
    "    X = MaxPooling2D((2, 2), name='max_pool1')(X)  \n",
    "    ##\n",
    "    \n",
    "    ##\n",
    "    X = Conv2D(16, (3, 3), strides = (1, 1), name = 'conv2')(X)    \n",
    "    X = BatchNormalization(axis = 3, name = 'bn2')(X)\n",
    "    X = Activation('relu')(X)\n",
    "    X = MaxPooling2D((2, 2), name='max_pool2')(X)  \n",
    "    ##    \n",
    "\n",
    "    ##   New layer\n",
    "    X = Conv2D(8, (3, 3), strides = (1, 1), name = 'conv3')(X)    \n",
    "    X = BatchNormalization(axis = 3, name = 'bn3')(X)\n",
    "    X = Activation('relu')(X)\n",
    "    X = MaxPooling2D((2, 2), name='max_pool3')(X)  \n",
    "    ##    \n",
    "    \n",
    "    ##   New layer\n",
    "    X = Conv2D(4, (3, 3), strides = (1, 1), name = 'conv4')(X)    \n",
    "    X = BatchNormalization(axis = 3, name = 'bn4')(X)\n",
    "    X = Activation('relu')(X)\n",
    "    X = MaxPooling2D((2, 2), name='max_pool4')(X)  \n",
    "    ##    \n",
    "\n",
    "    # FLATTEN X (means convert it to a vector) + FULLYCONNECTED\n",
    "    X = Flatten()(X)\n",
    "    X = Dropout(0.5)(X)\n",
    "    X = Dense(NumClass, activation='sigmoid', name='fc')(X)\n",
    "\n",
    "    # Create model. This creates your Keras model instance, you'll use this instance to train/test the model.\n",
    "    model = Model(inputs = X_input, outputs = X, name='KerasModel')\n",
    "    \n",
    "    return model "
   ]
  },
  {
   "cell_type": "code",
   "execution_count": null,
   "metadata": {},
   "outputs": [],
   "source": [
    "# Construct the model\n",
    "ModelPulm = KerasModel(Xv[0].shape) # input dimention\n",
    "# Run the model\n",
    "ModelPulm.compile(loss='binary_crossentropy',optimizer='Adam', metrics=['accuracy'])"
   ]
  },
  {
   "cell_type": "code",
   "execution_count": null,
   "metadata": {},
   "outputs": [],
   "source": [
    "ModelPulm.summary()"
   ]
  },
  {
   "cell_type": "code",
   "execution_count": null,
   "metadata": {},
   "outputs": [],
   "source": [
    "tf.keras.utils.plot_model(\n",
    "    ModelPulm, to_file='C:/Users/felipe/Documents/Pulm/model.png', show_shapes=True, show_layer_names=True,\n",
    "    rankdir='TB', expand_nested=True, dpi=96\n",
    ")"
   ]
  },
  {
   "cell_type": "markdown",
   "metadata": {},
   "source": [
    "### Run the model"
   ]
  },
  {
   "cell_type": "code",
   "execution_count": null,
   "metadata": {
    "scrolled": false
   },
   "outputs": [],
   "source": [
    "plot_hist = []\n",
    "plot_val_hist = []\n",
    "plot_loss = []\n",
    "plot_val_loss = []\n",
    "model = []\n",
    "acc = []\n",
    "val_acc = []\n",
    "for i in range(0,7):\n",
    "    print('Number of run: ' + str(i))\n",
    "    save_history = 'C:/Users/felip/Documents/Pulm/history_' + str(i) + '.png'\n",
    "    save_loss    = 'C:/Users/felip/Documents/Pulm/loss_' + str(i) + '.png'\n",
    "    save_model   = 'C:/Users/felip/Documents/Pulm/ModelBOX_' + str(i) + '.h5'\n",
    "    Path         = 'C:/Users/felip/Documents/DataBOX/Box_Pulm' + str(i) + '.pckl'\n",
    "    f = open(Path, 'rb')\n",
    "    [Xt,Y] = pickle.load(f)\n",
    "    \n",
    "    # save fit model\n",
    "    history = ModelPulm.fit(x = Xt, y = Y, batch_size = 2**6, epochs = 16, validation_data = (Xv,Yv)) \n",
    "    \n",
    "    #save model\n",
    "    ModelPulm.save(save_model)\n",
    "    \n",
    "    model.append(i)\n",
    "    acc.append(history.history['accuracy'][15])\n",
    "    val_acc.append(history.history['val_accuracy'][15])\n",
    "    plot_hist.extend(history.history['accuracy'])\n",
    "    plot_val_hist.extend(history.history['val_accuracy'])\n",
    "    plot_loss.extend(history.history['loss'])\n",
    "    plot_val_loss.extend(history.history['val_loss'])\n",
    "    \n",
    "    # save validation fit model\n",
    "    plt.plot(history.history['accuracy'])\n",
    "    plt.plot(history.history['val_accuracy'])\n",
    "    plt.ylabel('accuracy')\n",
    "    plt.xlabel('epoch')\n",
    "    plt.legend(['train', 'val'], loc='upper left')\n",
    "    plt.savefig(save_history, format='png')\n",
    "    plt.show()\n",
    "   \n",
    "    # save validation loss model\n",
    "    plt.plot(history.history['loss'])\n",
    "    plt.plot(history.history['val_loss'])\n",
    "    plt.ylabel('loss')\n",
    "    plt.xlabel('epoch')\n",
    "    plt.legend(['train', 'val'], loc='upper left')\n",
    "    plt.savefig(save_loss, format='png')\n",
    "    plt.show()"
   ]
  },
  {
   "cell_type": "markdown",
   "metadata": {},
   "source": [
    "### Plot training"
   ]
  },
  {
   "cell_type": "code",
   "execution_count": null,
   "metadata": {},
   "outputs": [],
   "source": [
    "plt.figure(figsize = (15,10))\n",
    "plt.plot(plot_hist)\n",
    "plt.plot(plot_val_hist)\n",
    "plt.ylabel('accuracy')\n",
    "plt.xlabel('epoch')\n",
    "plt.legend(['train', 'val', 'loss', 'val_loss'], loc='upper left')\n",
    "plt.savefig('C:/Users/felip/Documents/Pulm/history-history.png', format='png')\n",
    "plt.show()"
   ]
  },
  {
   "cell_type": "code",
   "execution_count": null,
   "metadata": {},
   "outputs": [],
   "source": [
    "plt.figure(figsize = (15,10))\n",
    "plt.plot(plot_hist)\n",
    "plt.plot(plot_val_hist)\n",
    "plt.ylabel('accuracy')\n",
    "plt.xlabel('epoch')\n",
    "plt.legend(['train', 'val', 'loss', 'val_loss'], loc='upper left')\n",
    "plt.savefig('C:/Users/felip/Documents/Pulm/history-history.png', format='png')\n",
    "plt.show()"
   ]
  },
  {
   "cell_type": "code",
   "execution_count": null,
   "metadata": {},
   "outputs": [],
   "source": [
    "data = {'Model': model,\n",
    "        'acc': acc,\n",
    "        'val_acc': val_acc}\n",
    "\n",
    "df = pd.DataFrame(data, columns = ['Model', 'acc', 'val_acc'])\n",
    "df.to_csv('C:/Users/felip/Documents/Pulm/acc.csv')\n",
    "df.head(10)"
   ]
  },
  {
   "cell_type": "markdown",
   "metadata": {},
   "source": [
    "### Validation"
   ]
  },
  {
   "cell_type": "code",
   "execution_count": null,
   "metadata": {},
   "outputs": [],
   "source": [
    "# Evaluate the model on the test data using `evaluate`\n",
    "print(\"Evaluate on test data\")\n",
    "results = ModelPulm.evaluate(Xv, Yv, batch_size = 64)\n",
    "print(\"test loss, test acc:\", results)\n",
    "\n",
    "# Generate predictions (probabilities -- the output of the last layer)\n",
    "# on new data using `predict`\n",
    "print(\"Generate predictions for samples\")\n",
    "pred = ModelPulm.predict(Xv)\n",
    "print(\"predictions shape:\", pred.shape)"
   ]
  },
  {
   "cell_type": "markdown",
   "metadata": {},
   "source": [
    "### Evaluating"
   ]
  },
  {
   "cell_type": "code",
   "execution_count": null,
   "metadata": {},
   "outputs": [],
   "source": [
    "box = pred * 250\n",
    "ori = np.float32(Yv * 250)"
   ]
  },
  {
   "cell_type": "code",
   "execution_count": null,
   "metadata": {},
   "outputs": [],
   "source": [
    "def bb_intersection_over_union(boxA, boxB):\n",
    "    # determine the (x, y)-coordinates of the intersection rectangle\n",
    "    xA = max(boxA[0], boxB[0])\n",
    "    yA = max(boxA[1], boxB[1])\n",
    "    xB = min(boxA[2], boxB[2])\n",
    "    yB = min(boxA[3], boxB[3])\n",
    "\n",
    "    # compute the area of intersection rectangle\n",
    "    interArea = abs(max((xB - xA, 0)) * max((yB - yA), 0))\n",
    "    if interArea == 0:\n",
    "        return 0\n",
    "    # compute the area of both the prediction and ground-truth\n",
    "    # rectangles\n",
    "    boxAArea = abs((boxA[2] - boxA[0]) * (boxA[3] - boxA[1]))\n",
    "    boxBArea = abs((boxB[2] - boxB[0]) * (boxB[3] - boxB[1]))\n",
    "\n",
    "    # compute the intersection over union by taking the intersection\n",
    "    # area and dividing it by the sum of prediction + ground-truth\n",
    "    # areas - the interesection area\n",
    "    iou = interArea / float(boxAArea + boxBArea - interArea)\n",
    "\n",
    "    # return the intersection over union value\n",
    "    return iou"
   ]
  },
  {
   "cell_type": "code",
   "execution_count": null,
   "metadata": {},
   "outputs": [],
   "source": [
    "box_acc = []\n",
    "for i in range(1024):\n",
    "    boxA = ori[i]\n",
    "    boxB = box[i]\n",
    "    box_acc.append(bb_intersection_over_union(boxA, boxB))\n",
    "np.mean(box_acc)"
   ]
  },
  {
   "cell_type": "markdown",
   "metadata": {},
   "source": [
    "### Test"
   ]
  },
  {
   "cell_type": "code",
   "execution_count": null,
   "metadata": {},
   "outputs": [],
   "source": [
    "def draw_img_box(test_img, ori, box):               \n",
    "    start_point = (ori[2], ori[3]) \n",
    "    end_point = (ori[0], ori[1]) \n",
    "    color = (0, 0, 255) \n",
    "    thickness = 1\n",
    "    test_img = cv2.rectangle(test_img, start_point, end_point, color, thickness)\n",
    "\n",
    "    start_point = (box[2], box[3]) \n",
    "    end_point = (box[0], box[1]) \n",
    "    color = (255, 0, 0) \n",
    "    thickness = 1\n",
    "    test_img = cv2.rectangle(test_img, start_point, end_point, color, thickness)\n",
    "    \n",
    "    return test_img"
   ]
  },
  {
   "cell_type": "code",
   "execution_count": null,
   "metadata": {},
   "outputs": [],
   "source": [
    "fig = plt.figure(figsize = (25,25))\n",
    "for i in range(16):\n",
    "    fig_pulm = draw_img_box(Xv[i], ori[i], box[i])\n",
    "    fig.add_subplot(4, 4, i + 1).imshow(fig_pulm)\n",
    "plt.savefig('C:/Users/felip/Documents/Pulm/drawbox.png', format='png')"
   ]
  }
 ],
 "metadata": {
  "kernelspec": {
   "display_name": "Python 3",
   "language": "python",
   "name": "python3"
  },
  "language_info": {
   "codemirror_mode": {
    "name": "ipython",
    "version": 3
   },
   "file_extension": ".py",
   "mimetype": "text/x-python",
   "name": "python",
   "nbconvert_exporter": "python",
   "pygments_lexer": "ipython3",
   "version": "3.8.8"
  }
 },
 "nbformat": 4,
 "nbformat_minor": 4
}
