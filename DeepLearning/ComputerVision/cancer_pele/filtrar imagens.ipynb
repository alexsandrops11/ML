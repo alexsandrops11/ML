{
 "cells": [
  {
   "cell_type": "code",
   "execution_count": 1,
   "id": "acoustic-selling",
   "metadata": {},
   "outputs": [],
   "source": [
    "import pandas as pd\n",
    "import os\n",
    "import matplotlib.pyplot as plt\n",
    "import numpy as np\n",
    "from PIL import Image, ImageFilter\n",
    "import glob\n",
    "from numpy import random as rd\n",
    "import pickle"
   ]
  },
  {
   "cell_type": "code",
   "execution_count": 6,
   "id": "virgin-cologne",
   "metadata": {},
   "outputs": [
    {
     "data": {
      "text/plain": [
       "18799"
      ]
     },
     "execution_count": 6,
     "metadata": {},
     "output_type": "execute_result"
    }
   ],
   "source": [
    "dats = pd.read_excel('C:/Users/alex_/Desktop/cancer-targetsTESTE.xlsx')\n",
    "len(dats)"
   ]
  },
  {
   "cell_type": "code",
   "execution_count": 7,
   "id": "concerned-surface",
   "metadata": {},
   "outputs": [
    {
     "name": "stdout",
     "output_type": "stream",
     "text": [
      "[2943, 4626, 1113, 6705, 1099, 1035, 1278]\n",
      "18799\n"
     ]
    }
   ],
   "source": [
    "doen = []\n",
    "doen.append(np.count_nonzero(dats['akiec']== True ))\n",
    "doen.append(np.count_nonzero(dats['bcc']  == True ))\n",
    "doen.append(np.count_nonzero(dats['mel']  == True ))\n",
    "doen.append(np.count_nonzero(dats['nv']   == True ))\n",
    "doen.append(np.count_nonzero(dats['bkl']  == True ))\n",
    "doen.append(np.count_nonzero(dats['df']   == True ))\n",
    "doen.append(np.count_nonzero(dats['vasc'] == True ))\n",
    "print(doen)\n",
    "print(sum(doen))"
   ]
  },
  {
   "cell_type": "code",
   "execution_count": 8,
   "id": "internal-indication",
   "metadata": {},
   "outputs": [
    {
     "data": {
      "image/png": "[encoded data removed]",
      "text/plain": [
       "<Figure size 432x288 with 1 Axes>"
      ]
     },
     "metadata": {
      "needs_background": "light"
     },
     "output_type": "display_data"
    }
   ],
   "source": [
    "plt.title('Quantidade por doenças', fontsize=15)\n",
    "plt.xlabel('Doenças', fontsize=15)\n",
    "plt.ylabel('Quantidade', fontsize=15)\n",
    "plt.bar(['akiec' , 'bcc' , 'mel' , 'nv' , 'bkl','df', 'vasc'],doen)\n",
    "plt.show()"
   ]
  },
  {
   "cell_type": "code",
   "execution_count": 9,
   "id": "tight-rocket",
   "metadata": {},
   "outputs": [
    {
     "data": {
      "text/plain": [
       "image_id    ISIC_0024755\n",
       "akiec                  0\n",
       "bcc                    0\n",
       "mel                    0\n",
       "nv                     1\n",
       "bkl                    0\n",
       "df                     0\n",
       "vasc                   0\n",
       "Name: 449, dtype: object"
      ]
     },
     "execution_count": 9,
     "metadata": {},
     "output_type": "execute_result"
    }
   ],
   "source": [
    "x = dats.loc[dats['nv'] == True].index\n",
    "dats.loc[x[300]]"
   ]
  },
  {
   "cell_type": "code",
   "execution_count": 10,
   "id": "handled-oklahoma",
   "metadata": {},
   "outputs": [],
   "source": [
    "for i in x[:4000]:\n",
    "    imagen = dats.loc[i].values.tolist()\n",
    "    os.remove('D:/cancer de pele/data_pickle/' + imagen[0] + '.pckl')\n",
    "    dats = dats.drop(i)"
   ]
  },
  {
   "cell_type": "code",
   "execution_count": 11,
   "id": "worse-stanford",
   "metadata": {},
   "outputs": [
    {
     "data": {
      "text/plain": [
       "14799"
      ]
     },
     "execution_count": 11,
     "metadata": {},
     "output_type": "execute_result"
    }
   ],
   "source": [
    "len(dats)"
   ]
  },
  {
   "cell_type": "code",
   "execution_count": 12,
   "id": "decent-behavior",
   "metadata": {},
   "outputs": [
    {
     "name": "stdout",
     "output_type": "stream",
     "text": [
      "[2943, 4626, 1113, 2705, 1099, 1035, 1278]\n",
      "14799\n"
     ]
    }
   ],
   "source": [
    "doen = []\n",
    "doen.append(np.count_nonzero(dats['akiec']== True ))\n",
    "doen.append(np.count_nonzero(dats['bcc']  == True ))\n",
    "doen.append(np.count_nonzero(dats['mel']  == True ))\n",
    "doen.append(np.count_nonzero(dats['nv']   == True ))\n",
    "doen.append(np.count_nonzero(dats['bkl']  == True ))\n",
    "doen.append(np.count_nonzero(dats['df']   == True ))\n",
    "doen.append(np.count_nonzero(dats['vasc'] == True ))\n",
    "print(doen)\n",
    "print(sum(doen))"
   ]
  },
  {
   "cell_type": "code",
   "execution_count": 13,
   "id": "color-advance",
   "metadata": {},
   "outputs": [
    {
     "data": {
      "image/png": "[encoded data removed]",
      "text/plain": [
       "<Figure size 432x288 with 1 Axes>"
      ]
     },
     "metadata": {
      "needs_background": "light"
     },
     "output_type": "display_data"
    }
   ],
   "source": [
    "plt.title('Quantidade por doenças', fontsize=15)\n",
    "plt.xlabel('Doenças', fontsize=15)\n",
    "plt.ylabel('Quantidade', fontsize=15)\n",
    "plt.bar(['akiec' , 'bcc' , 'mel' , 'nv' , 'bkl','df', 'vasc'],doen)\n",
    "plt.show()"
   ]
  },
  {
   "cell_type": "code",
   "execution_count": 14,
   "id": "theoretical-dairy",
   "metadata": {},
   "outputs": [
    {
     "data": {
      "text/plain": [
       "image_id    ISIC_0024345\n",
       "akiec                  0\n",
       "bcc                    1\n",
       "mel                    0\n",
       "nv                     0\n",
       "bkl                    0\n",
       "df                     0\n",
       "vasc                   0\n",
       "Name: 39, dtype: object"
      ]
     },
     "execution_count": 14,
     "metadata": {},
     "output_type": "execute_result"
    }
   ],
   "source": [
    "x = dats.loc[dats['bcc'] == True].index\n",
    "dats.loc[x[2]]"
   ]
  },
  {
   "cell_type": "code",
   "execution_count": 15,
   "id": "frank-setting",
   "metadata": {},
   "outputs": [],
   "source": [
    "for i in x[:3000]:\n",
    "    imagen = dats.loc[i].values.tolist()\n",
    "    os.remove('D:/cancer de pele/data_pickle/' + imagen[0] + '.pckl')\n",
    "    dats = dats.drop(i)"
   ]
  },
  {
   "cell_type": "code",
   "execution_count": 16,
   "id": "institutional-federation",
   "metadata": {},
   "outputs": [
    {
     "data": {
      "text/plain": [
       "11799"
      ]
     },
     "execution_count": 16,
     "metadata": {},
     "output_type": "execute_result"
    }
   ],
   "source": [
    "len(dats)"
   ]
  },
  {
   "cell_type": "code",
   "execution_count": 17,
   "id": "severe-subsection",
   "metadata": {},
   "outputs": [
    {
     "name": "stdout",
     "output_type": "stream",
     "text": [
      "[2943, 1626, 1113, 2705, 1099, 1035, 1278]\n",
      "11799\n"
     ]
    }
   ],
   "source": [
    "doen = []\n",
    "doen.append(np.count_nonzero(dats['akiec']== True ))\n",
    "doen.append(np.count_nonzero(dats['bcc']  == True ))\n",
    "doen.append(np.count_nonzero(dats['mel']  == True ))\n",
    "doen.append(np.count_nonzero(dats['nv']   == True ))\n",
    "doen.append(np.count_nonzero(dats['bkl']  == True ))\n",
    "doen.append(np.count_nonzero(dats['df']   == True ))\n",
    "doen.append(np.count_nonzero(dats['vasc'] == True ))\n",
    "print(doen)\n",
    "print(sum(doen))"
   ]
  },
  {
   "cell_type": "code",
   "execution_count": 18,
   "id": "posted-float",
   "metadata": {},
   "outputs": [
    {
     "data": {
      "image/png": "[encoded data removed]",
      "text/plain": [
       "<Figure size 432x288 with 1 Axes>"
      ]
     },
     "metadata": {
      "needs_background": "light"
     },
     "output_type": "display_data"
    }
   ],
   "source": [
    "plt.title('Quantidade por doenças', fontsize=15)\n",
    "plt.xlabel('Doenças', fontsize=15)\n",
    "plt.ylabel('Quantidade', fontsize=15)\n",
    "plt.bar(['akiec' , 'bcc' , 'mel' , 'nv' , 'bkl','df', 'vasc'],doen)\n",
    "plt.show()"
   ]
  },
  {
   "cell_type": "code",
   "execution_count": 19,
   "id": "hidden-founder",
   "metadata": {},
   "outputs": [
    {
     "data": {
      "text/plain": [
       "image_id    ISIC_0024450\n",
       "akiec                  1\n",
       "bcc                    0\n",
       "mel                    0\n",
       "nv                     0\n",
       "bkl                    0\n",
       "df                     0\n",
       "vasc                   0\n",
       "Name: 144, dtype: object"
      ]
     },
     "execution_count": 19,
     "metadata": {},
     "output_type": "execute_result"
    }
   ],
   "source": [
    "x = dats.loc[dats['akiec'] == True].index\n",
    "dats.loc[x[3]]"
   ]
  },
  {
   "cell_type": "code",
   "execution_count": 20,
   "id": "satellite-stable",
   "metadata": {},
   "outputs": [],
   "source": [
    "for i in x[:1500]:\n",
    "    imagen = dats.loc[i].values.tolist()\n",
    "    os.remove('D:/cancer de pele/data_pickle/' + imagen[0] + '.pckl')\n",
    "    dats = dats.drop(i)"
   ]
  },
  {
   "cell_type": "code",
   "execution_count": 21,
   "id": "japanese-trader",
   "metadata": {},
   "outputs": [
    {
     "name": "stdout",
     "output_type": "stream",
     "text": [
      "[1443, 1626, 1113, 2705, 1099, 1035, 1278]\n",
      "10299\n"
     ]
    }
   ],
   "source": [
    "doen = []\n",
    "doen.append(np.count_nonzero(dats['akiec']== True ))\n",
    "doen.append(np.count_nonzero(dats['bcc']  == True ))\n",
    "doen.append(np.count_nonzero(dats['mel']  == True ))\n",
    "doen.append(np.count_nonzero(dats['nv']   == True ))\n",
    "doen.append(np.count_nonzero(dats['bkl']  == True ))\n",
    "doen.append(np.count_nonzero(dats['df']   == True ))\n",
    "doen.append(np.count_nonzero(dats['vasc'] == True ))\n",
    "print(doen)\n",
    "print(sum(doen))"
   ]
  },
  {
   "cell_type": "code",
   "execution_count": 22,
   "id": "cross-rugby",
   "metadata": {},
   "outputs": [
    {
     "data": {
      "image/png": "[encoded data removed]",
      "text/plain": [
       "<Figure size 432x288 with 1 Axes>"
      ]
     },
     "metadata": {
      "needs_background": "light"
     },
     "output_type": "display_data"
    }
   ],
   "source": [
    "plt.title('Quantidade por doenças', fontsize=15)\n",
    "plt.xlabel('Doenças', fontsize=15)\n",
    "plt.ylabel('Quantidade', fontsize=15)\n",
    "plt.bar(['akiec' , 'bcc' , 'mel' , 'nv' , 'bkl','df', 'vasc'],doen)\n",
    "plt.show()"
   ]
  },
  {
   "cell_type": "code",
   "execution_count": null,
   "id": "studied-louisville",
   "metadata": {},
   "outputs": [],
   "source": [
    "dats.to_excel('')"
   ]
  },
  {
   "cell_type": "code",
   "execution_count": null,
   "id": "fossil-laugh",
   "metadata": {},
   "outputs": [],
   "source": [
    "x = dats.loc[dats['bcc'] == True].index\n",
    "dats.loc[x[0]]"
   ]
  },
  {
   "cell_type": "code",
   "execution_count": null,
   "id": "enabling-architecture",
   "metadata": {},
   "outputs": [],
   "source": [
    "for i in x:\n",
    "    imagen = dats.loc[i].values.tolist()\n",
    "    os.remove('D:/cancer de pele/data_pickle/' + imagen[0] + '.pckl')\n",
    "    dats = dats.drop(i)"
   ]
  },
  {
   "cell_type": "code",
   "execution_count": null,
   "id": "large-bradley",
   "metadata": {},
   "outputs": [],
   "source": [
    "doen = []\n",
    "doen.append(np.count_nonzero(dats['akiec']== True ))\n",
    "doen.append(np.count_nonzero(dats['bcc']  == True ))\n",
    "doen.append(np.count_nonzero(dats['mel']  == True ))\n",
    "doen.append(np.count_nonzero(dats['nv']   == True ))\n",
    "doen.append(np.count_nonzero(dats['bkl']  == True ))\n",
    "doen.append(np.count_nonzero(dats['df']   == True ))\n",
    "doen.append(np.count_nonzero(dats['vasc'] == True ))\n",
    "print(doen)\n",
    "print(sum(doen))"
   ]
  },
  {
   "cell_type": "code",
   "execution_count": null,
   "id": "italic-bennett",
   "metadata": {},
   "outputs": [],
   "source": [
    "plt.title('Quantidade por doenças', fontsize=15)\n",
    "plt.xlabel('Doenças', fontsize=15)\n",
    "plt.ylabel('Quantidade', fontsize=15)\n",
    "plt.bar(['akiec' , 'bcc' , 'mel' , 'nv' , 'bkl','df', 'vasc'],doen)\n",
    "plt.show()"
   ]
  },
  {
   "cell_type": "code",
   "execution_count": 23,
   "id": "sorted-termination",
   "metadata": {},
   "outputs": [],
   "source": [
    "dats.to_csv('C:/Users/alex_/Desktop/target_TRAIN.csv')"
   ]
  },
  {
   "cell_type": "code",
   "execution_count": null,
   "id": "toxic-employee",
   "metadata": {},
   "outputs": [],
   "source": []
  }
 ],
 "metadata": {
  "kernelspec": {
   "display_name": "Python 3",
   "language": "python",
   "name": "python3"
  },
  "language_info": {
   "codemirror_mode": {
    "name": "ipython",
    "version": 3
   },
   "file_extension": ".py",
   "mimetype": "text/x-python",
   "name": "python",
   "nbconvert_exporter": "python",
   "pygments_lexer": "ipython3",
   "version": "3.8.8"
  }
 },
 "nbformat": 4,
 "nbformat_minor": 5
}
